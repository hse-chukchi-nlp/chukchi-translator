{
  "cells": [
    {
      "cell_type": "markdown",
      "source": [
        "# **Notebook for Automated Parsing of Articles from \"Krainiy Sever\" Newspaper (Murgin Nuteneut Section)**"
      ],
      "metadata": {
        "id": "rxbSG3XvqH5_"
      },
      "id": "rxbSG3XvqH5_"
    },
    {
      "cell_type": "markdown",
      "source": [
        "This notebook enables parsing articles from the website into text files. The output format is as follows:\n",
        "\n",
        "Эӆеэмнуӈкинэт танча кывэйыт (*Chukchi headline, typically in uppercase*)\n",
        "\n",
        "\n",
        "Ыӆыӆгыпӆытку, эӆеръук эмнуӈы нывтыӈаӆӄэнат амра тавтыӈӈа чама амаӆва ваӆьыт мимигти ныгичиӄинэт тэтэйӈэнӈы амра яаӈа. (*Chukchi text content*)\n",
        "\n",
        "Летней тундры щедрые дары (*Russian headline*)\n",
        "\n",
        "\n",
        "После схода снега и наступления лета в тундре начинается сбор первой зелени, которую коренные жители издревле используют для приготовления блюд национальной кухни. (*Russian text content - texts aren't always perfectly parallel, sometimes contains metadata*)"
      ],
      "metadata": {
        "id": "0q79HIrVqag3"
      },
      "id": "0q79HIrVqag3"
    },
    {
      "cell_type": "code",
      "execution_count": null,
      "id": "initial_id",
      "metadata": {
        "collapsed": true,
        "id": "initial_id"
      },
      "outputs": [],
      "source": [
        "# !pip install bs4"
      ]
    },
    {
      "metadata": {
        "ExecuteTime": {
          "end_time": "2025-02-12T20:26:55.652129Z",
          "start_time": "2025-02-12T20:26:54.793144Z"
        },
        "id": "217374b8e69c0b93"
      },
      "cell_type": "code",
      "source": [
        "from bs4 import BeautifulSoup\n",
        "import requests"
      ],
      "id": "217374b8e69c0b93",
      "outputs": [],
      "execution_count": null
    },
    {
      "metadata": {
        "ExecuteTime": {
          "end_time": "2025-02-12T20:26:57.249994Z",
          "start_time": "2025-02-12T20:26:57.232916Z"
        },
        "id": "5d71674594186941"
      },
      "cell_type": "code",
      "source": [
        "headers = {\n",
        "        \"User-Agent\": \"Mozilla/5.0 (Windows NT 10.0; Win64; x64) AppleWebKit/537.36 (KHTML, like Gecko) Chrome/91.0.4472.124 Safari/537.36\"\n",
        "    }"
      ],
      "id": "5d71674594186941",
      "outputs": [],
      "execution_count": null
    },
    {
      "metadata": {
        "ExecuteTime": {
          "end_time": "2025-02-12T20:26:58.790987Z",
          "start_time": "2025-02-12T20:26:58.773189Z"
        },
        "id": "53af9b1e1e3f164e"
      },
      "cell_type": "code",
      "source": [
        "def call_to_page():\n",
        "\n",
        "    main_page = 'https://www.ks87.ru/108?page='\n",
        "\n",
        "    for i in range(1, 17):\n",
        "        current_page = main_page.replace('page=', f'page={i}')\n",
        "\n",
        "        response = requests.get(current_page, headers=headers, timeout=30)\n",
        "        response.raise_for_status()\n",
        "        bs = BeautifulSoup(response.text,\"lxml\")\n",
        "        yield bs"
      ],
      "id": "53af9b1e1e3f164e",
      "outputs": [],
      "execution_count": null
    },
    {
      "metadata": {
        "ExecuteTime": {
          "end_time": "2025-02-12T20:27:01.380898Z",
          "start_time": "2025-02-12T20:27:01.369679Z"
        },
        "id": "b08e863b427a1a0f"
      },
      "cell_type": "code",
      "source": [
        "def get_all_url_from_page(base_url: str) -> list[str]:\n",
        "    urls = list()\n",
        "    for bs in call_to_page():\n",
        "        for a_tag in bs.find_all('a', 'news', href=True):\n",
        "            full_url = base_url + a_tag['href']\n",
        "            urls.append(full_url)\n",
        "    return [url for url in urls if url.startswith('https://www.ks87.ru/108/')]"
      ],
      "id": "b08e863b427a1a0f",
      "outputs": [],
      "execution_count": null
    },
    {
      "metadata": {
        "ExecuteTime": {
          "end_time": "2025-02-12T20:28:06.183041Z",
          "start_time": "2025-02-12T20:27:03.866711Z"
        },
        "id": "fd756a9d804b5fee",
        "outputId": "967d5c03-a004-4c08-fee4-6b0a7b64d724"
      },
      "cell_type": "code",
      "source": [
        "base_url = 'https://www.ks87.ru'\n",
        "\n",
        "links = get_all_url_from_page(base_url)\n",
        "print(links)"
      ],
      "id": "fd756a9d804b5fee",
      "outputs": [
        {
          "name": "stdout",
          "output_type": "stream",
          "text": [
            "['https://www.ks87.ru/108/18679', 'https://www.ks87.ru/108/18487', 'https://www.ks87.ru/108/18344', 'https://www.ks87.ru/108/18213', 'https://www.ks87.ru/108/18048', 'https://www.ks87.ru/108/17912', 'https://www.ks87.ru/108/17784', 'https://www.ks87.ru/108/17630', 'https://www.ks87.ru/108/17313', 'https://www.ks87.ru/108/17169', 'https://www.ks87.ru/108/18679', 'https://www.ks87.ru/108/18487', 'https://www.ks87.ru/108/17050', 'https://www.ks87.ru/108/16861', 'https://www.ks87.ru/108/16723', 'https://www.ks87.ru/108/16433', 'https://www.ks87.ru/108/16308', 'https://www.ks87.ru/108/16157', 'https://www.ks87.ru/108/15973', 'https://www.ks87.ru/108/15867', 'https://www.ks87.ru/108/15726', 'https://www.ks87.ru/108/15514', 'https://www.ks87.ru/108/18679', 'https://www.ks87.ru/108/18487', 'https://www.ks87.ru/108/15382', 'https://www.ks87.ru/108/15276', 'https://www.ks87.ru/108/15145', 'https://www.ks87.ru/108/14959', 'https://www.ks87.ru/108/14824', 'https://www.ks87.ru/108/14672', 'https://www.ks87.ru/108/14553', 'https://www.ks87.ru/108/14391', 'https://www.ks87.ru/108/14390', 'https://www.ks87.ru/108/14263', 'https://www.ks87.ru/108/18679', 'https://www.ks87.ru/108/18487', 'https://www.ks87.ru/108/14262', 'https://www.ks87.ru/108/14138', 'https://www.ks87.ru/108/13976', 'https://www.ks87.ru/108/13871', 'https://www.ks87.ru/108/13705', 'https://www.ks87.ru/108/13639', 'https://www.ks87.ru/108/13461', 'https://www.ks87.ru/108/13460', 'https://www.ks87.ru/108/13343', 'https://www.ks87.ru/108/13190', 'https://www.ks87.ru/108/18679', 'https://www.ks87.ru/108/18487', 'https://www.ks87.ru/108/13191', 'https://www.ks87.ru/108/13074', 'https://www.ks87.ru/108/12845', 'https://www.ks87.ru/108/12749', 'https://www.ks87.ru/108/12532', 'https://www.ks87.ru/108/12104', 'https://www.ks87.ru/108/12103', 'https://www.ks87.ru/108/12102', 'https://www.ks87.ru/108/12021', 'https://www.ks87.ru/108/11861', 'https://www.ks87.ru/108/18679', 'https://www.ks87.ru/108/18487', 'https://www.ks87.ru/108/11766', 'https://www.ks87.ru/108/11765', 'https://www.ks87.ru/108/11764', 'https://www.ks87.ru/108/11763', 'https://www.ks87.ru/108/11676', 'https://www.ks87.ru/108/11677', 'https://www.ks87.ru/108/11679', 'https://www.ks87.ru/108/11678', 'https://www.ks87.ru/108/14458', 'https://www.ks87.ru/108/11446', 'https://www.ks87.ru/108/18679', 'https://www.ks87.ru/108/18487', 'https://www.ks87.ru/108/11447', 'https://www.ks87.ru/108/11336', 'https://www.ks87.ru/108/11335', 'https://www.ks87.ru/108/11334', 'https://www.ks87.ru/108/11332', 'https://www.ks87.ru/108/11150', 'https://www.ks87.ru/108/11151', 'https://www.ks87.ru/108/11040', 'https://www.ks87.ru/108/11039', 'https://www.ks87.ru/108/11038', 'https://www.ks87.ru/108/18679', 'https://www.ks87.ru/108/18487', 'https://www.ks87.ru/108/10934', 'https://www.ks87.ru/108/10932', 'https://www.ks87.ru/108/10931', 'https://www.ks87.ru/108/10930', 'https://www.ks87.ru/108/10827', 'https://www.ks87.ru/108/10714', 'https://www.ks87.ru/108/10549', 'https://www.ks87.ru/108/10548', 'https://www.ks87.ru/108/10429', 'https://www.ks87.ru/108/10428', 'https://www.ks87.ru/108/18679', 'https://www.ks87.ru/108/18487', 'https://www.ks87.ru/108/10427', 'https://www.ks87.ru/108/10426', 'https://www.ks87.ru/108/10330', 'https://www.ks87.ru/108/10329', 'https://www.ks87.ru/108/10328', 'https://www.ks87.ru/108/10327', 'https://www.ks87.ru/108/10326', 'https://www.ks87.ru/108/10325', 'https://www.ks87.ru/108/9721', 'https://www.ks87.ru/108/9403', 'https://www.ks87.ru/108/18679', 'https://www.ks87.ru/108/18487', 'https://www.ks87.ru/108/9402', 'https://www.ks87.ru/108/9175', 'https://www.ks87.ru/108/9174', 'https://www.ks87.ru/108/9037', 'https://www.ks87.ru/108/8890', 'https://www.ks87.ru/108/8889', 'https://www.ks87.ru/108/8740', 'https://www.ks87.ru/108/8743', 'https://www.ks87.ru/108/8742', 'https://www.ks87.ru/108/8741', 'https://www.ks87.ru/108/18679', 'https://www.ks87.ru/108/18487', 'https://www.ks87.ru/108/8598', 'https://www.ks87.ru/108/8597', 'https://www.ks87.ru/108/8596', 'https://www.ks87.ru/108/8093', 'https://www.ks87.ru/108/8094', 'https://www.ks87.ru/108/7927', 'https://www.ks87.ru/108/7937', 'https://www.ks87.ru/108/7794', 'https://www.ks87.ru/108/7795', 'https://www.ks87.ru/108/7709', 'https://www.ks87.ru/108/18679', 'https://www.ks87.ru/108/18487', 'https://www.ks87.ru/108/7546', 'https://www.ks87.ru/108/7469', 'https://www.ks87.ru/108/7301', 'https://www.ks87.ru/108/7300', 'https://www.ks87.ru/108/7292', 'https://www.ks87.ru/108/7165', 'https://www.ks87.ru/108/7164', 'https://www.ks87.ru/108/7045', 'https://www.ks87.ru/108/7044', 'https://www.ks87.ru/108/7043', 'https://www.ks87.ru/108/18679', 'https://www.ks87.ru/108/18487', 'https://www.ks87.ru/108/6923', 'https://www.ks87.ru/108/6922', 'https://www.ks87.ru/108/6921', 'https://www.ks87.ru/108/6920', 'https://www.ks87.ru/108/6795', 'https://www.ks87.ru/108/6794', 'https://www.ks87.ru/108/6587', 'https://www.ks87.ru/108/6436', 'https://www.ks87.ru/108/6274', 'https://www.ks87.ru/108/6273', 'https://www.ks87.ru/108/18679', 'https://www.ks87.ru/108/18487', 'https://www.ks87.ru/108/6132', 'https://www.ks87.ru/108/6019', 'https://www.ks87.ru/108/6020', 'https://www.ks87.ru/108/5816', 'https://www.ks87.ru/108/5815', 'https://www.ks87.ru/108/5723', 'https://www.ks87.ru/108/5722', 'https://www.ks87.ru/108/5542', 'https://www.ks87.ru/108/5543', 'https://www.ks87.ru/108/5472', 'https://www.ks87.ru/108/18679', 'https://www.ks87.ru/108/18487', 'https://www.ks87.ru/108/5333', 'https://www.ks87.ru/108/5262', 'https://www.ks87.ru/108/5072', 'https://www.ks87.ru/108/4834', 'https://www.ks87.ru/108/4691', 'https://www.ks87.ru/108/4604', 'https://www.ks87.ru/108/4513', 'https://www.ks87.ru/108/4445', 'https://www.ks87.ru/108/4446', 'https://www.ks87.ru/108/3523', 'https://www.ks87.ru/108/18679', 'https://www.ks87.ru/108/18487', 'https://www.ks87.ru/108/3301', 'https://www.ks87.ru/108/3096', 'https://www.ks87.ru/108/2998', 'https://www.ks87.ru/108/2950', 'https://www.ks87.ru/108/18679', 'https://www.ks87.ru/108/18487']\n"
          ]
        }
      ],
      "execution_count": null
    },
    {
      "metadata": {
        "ExecuteTime": {
          "end_time": "2025-02-12T20:28:25.515942Z",
          "start_time": "2025-02-12T20:28:25.501306Z"
        },
        "id": "fc8b77be7aa6d7ad",
        "outputId": "6aff9384-7f45-49e3-ccfc-c299b89bd5cd"
      },
      "cell_type": "code",
      "source": [
        "print(len(links))"
      ],
      "id": "fc8b77be7aa6d7ad",
      "outputs": [
        {
          "name": "stdout",
          "output_type": "stream",
          "text": [
            "186\n"
          ]
        }
      ],
      "execution_count": null
    },
    {
      "metadata": {
        "id": "80a2c59c2dd4963f"
      },
      "cell_type": "code",
      "outputs": [],
      "execution_count": null,
      "source": [
        "collected_links = ['https://www.ks87.ru/108/18679', 'https://www.ks87.ru/108/18487', 'https://www.ks87.ru/108/18344', 'https://www.ks87.ru/108/18213', 'https://www.ks87.ru/108/18048', 'https://www.ks87.ru/108/17912', 'https://www.ks87.ru/108/17784', 'https://www.ks87.ru/108/17630', 'https://www.ks87.ru/108/17313', 'https://www.ks87.ru/108/17169', 'https://www.ks87.ru/108/18679', 'https://www.ks87.ru/108/18487', 'https://www.ks87.ru/108/17050', 'https://www.ks87.ru/108/16861', 'https://www.ks87.ru/108/16723', 'https://www.ks87.ru/108/16433', 'https://www.ks87.ru/108/16308', 'https://www.ks87.ru/108/16157', 'https://www.ks87.ru/108/15973', 'https://www.ks87.ru/108/15867', 'https://www.ks87.ru/108/15726', 'https://www.ks87.ru/108/15514', 'https://www.ks87.ru/108/18679', 'https://www.ks87.ru/108/18487', 'https://www.ks87.ru/108/15382', 'https://www.ks87.ru/108/15276', 'https://www.ks87.ru/108/15145', 'https://www.ks87.ru/108/14959', 'https://www.ks87.ru/108/14824', 'https://www.ks87.ru/108/14672', 'https://www.ks87.ru/108/14553', 'https://www.ks87.ru/108/14391', 'https://www.ks87.ru/108/14390', 'https://www.ks87.ru/108/14263', 'https://www.ks87.ru/108/18679', 'https://www.ks87.ru/108/18487', 'https://www.ks87.ru/108/14262', 'https://www.ks87.ru/108/14138', 'https://www.ks87.ru/108/13976', 'https://www.ks87.ru/108/13871', 'https://www.ks87.ru/108/13705', 'https://www.ks87.ru/108/13639', 'https://www.ks87.ru/108/13461', 'https://www.ks87.ru/108/13460', 'https://www.ks87.ru/108/13343', 'https://www.ks87.ru/108/13190', 'https://www.ks87.ru/108/18679', 'https://www.ks87.ru/108/18487', 'https://www.ks87.ru/108/13191', 'https://www.ks87.ru/108/13074', 'https://www.ks87.ru/108/12845', 'https://www.ks87.ru/108/12749', 'https://www.ks87.ru/108/12532', 'https://www.ks87.ru/108/12104', 'https://www.ks87.ru/108/12103', 'https://www.ks87.ru/108/12102', 'https://www.ks87.ru/108/12021', 'https://www.ks87.ru/108/11861', 'https://www.ks87.ru/108/18679', 'https://www.ks87.ru/108/18487', 'https://www.ks87.ru/108/11766', 'https://www.ks87.ru/108/11765', 'https://www.ks87.ru/108/11764', 'https://www.ks87.ru/108/11763', 'https://www.ks87.ru/108/11676', 'https://www.ks87.ru/108/11677', 'https://www.ks87.ru/108/11679', 'https://www.ks87.ru/108/11678', 'https://www.ks87.ru/108/14458', 'https://www.ks87.ru/108/11446', 'https://www.ks87.ru/108/18679', 'https://www.ks87.ru/108/18487', 'https://www.ks87.ru/108/11447', 'https://www.ks87.ru/108/11336', 'https://www.ks87.ru/108/11335', 'https://www.ks87.ru/108/11334', 'https://www.ks87.ru/108/11332', 'https://www.ks87.ru/108/11150', 'https://www.ks87.ru/108/11151', 'https://www.ks87.ru/108/11040', 'https://www.ks87.ru/108/11039', 'https://www.ks87.ru/108/11038', 'https://www.ks87.ru/108/18679', 'https://www.ks87.ru/108/18487', 'https://www.ks87.ru/108/10934', 'https://www.ks87.ru/108/10932', 'https://www.ks87.ru/108/10931', 'https://www.ks87.ru/108/10930', 'https://www.ks87.ru/108/10827', 'https://www.ks87.ru/108/10714', 'https://www.ks87.ru/108/10549', 'https://www.ks87.ru/108/10548', 'https://www.ks87.ru/108/10429', 'https://www.ks87.ru/108/10428', 'https://www.ks87.ru/108/18679', 'https://www.ks87.ru/108/18487', 'https://www.ks87.ru/108/10427', 'https://www.ks87.ru/108/10426', 'https://www.ks87.ru/108/10330', 'https://www.ks87.ru/108/10329', 'https://www.ks87.ru/108/10328', 'https://www.ks87.ru/108/10327', 'https://www.ks87.ru/108/10326', 'https://www.ks87.ru/108/10325', 'https://www.ks87.ru/108/9721', 'https://www.ks87.ru/108/9403', 'https://www.ks87.ru/108/18679', 'https://www.ks87.ru/108/18487', 'https://www.ks87.ru/108/9402', 'https://www.ks87.ru/108/9175', 'https://www.ks87.ru/108/9174', 'https://www.ks87.ru/108/9037', 'https://www.ks87.ru/108/8890', 'https://www.ks87.ru/108/8889', 'https://www.ks87.ru/108/8740', 'https://www.ks87.ru/108/8743', 'https://www.ks87.ru/108/8742', 'https://www.ks87.ru/108/8741', 'https://www.ks87.ru/108/18679', 'https://www.ks87.ru/108/18487', 'https://www.ks87.ru/108/8598', 'https://www.ks87.ru/108/8597', 'https://www.ks87.ru/108/8596', 'https://www.ks87.ru/108/8093', 'https://www.ks87.ru/108/8094', 'https://www.ks87.ru/108/7927', 'https://www.ks87.ru/108/7937', 'https://www.ks87.ru/108/7794', 'https://www.ks87.ru/108/7795', 'https://www.ks87.ru/108/7709', 'https://www.ks87.ru/108/18679', 'https://www.ks87.ru/108/18487', 'https://www.ks87.ru/108/7546', 'https://www.ks87.ru/108/7469', 'https://www.ks87.ru/108/7301', 'https://www.ks87.ru/108/7300', 'https://www.ks87.ru/108/7292', 'https://www.ks87.ru/108/7165', 'https://www.ks87.ru/108/7164', 'https://www.ks87.ru/108/7045', 'https://www.ks87.ru/108/7044', 'https://www.ks87.ru/108/7043', 'https://www.ks87.ru/108/18679', 'https://www.ks87.ru/108/18487', 'https://www.ks87.ru/108/6923', 'https://www.ks87.ru/108/6922', 'https://www.ks87.ru/108/6921', 'https://www.ks87.ru/108/6920', 'https://www.ks87.ru/108/6795', 'https://www.ks87.ru/108/6794', 'https://www.ks87.ru/108/6587', 'https://www.ks87.ru/108/6436', 'https://www.ks87.ru/108/6274', 'https://www.ks87.ru/108/6273', 'https://www.ks87.ru/108/18679', 'https://www.ks87.ru/108/18487', 'https://www.ks87.ru/108/6132', 'https://www.ks87.ru/108/6019', 'https://www.ks87.ru/108/6020', 'https://www.ks87.ru/108/5816', 'https://www.ks87.ru/108/5815', 'https://www.ks87.ru/108/5723', 'https://www.ks87.ru/108/5722', 'https://www.ks87.ru/108/5542', 'https://www.ks87.ru/108/5543', 'https://www.ks87.ru/108/5472', 'https://www.ks87.ru/108/18679', 'https://www.ks87.ru/108/18487', 'https://www.ks87.ru/108/5333', 'https://www.ks87.ru/108/5262', 'https://www.ks87.ru/108/5072', 'https://www.ks87.ru/108/4834', 'https://www.ks87.ru/108/4691', 'https://www.ks87.ru/108/4604', 'https://www.ks87.ru/108/4513', 'https://www.ks87.ru/108/4445', 'https://www.ks87.ru/108/4446', 'https://www.ks87.ru/108/3523', 'https://www.ks87.ru/108/18679', 'https://www.ks87.ru/108/18487', 'https://www.ks87.ru/108/3301', 'https://www.ks87.ru/108/3096', 'https://www.ks87.ru/108/2998', 'https://www.ks87.ru/108/2950', 'https://www.ks87.ru/108/18679', 'https://www.ks87.ru/108/18487']"
      ],
      "id": "80a2c59c2dd4963f"
    },
    {
      "metadata": {
        "id": "edb67b0bf29d95d"
      },
      "cell_type": "markdown",
      "source": [
        "Extracting text:"
      ],
      "id": "edb67b0bf29d95d"
    },
    {
      "metadata": {
        "ExecuteTime": {
          "end_time": "2025-02-12T21:02:49.025393Z",
          "start_time": "2025-02-12T21:02:49.003090Z"
        },
        "id": "48b7bd50d820ff8c"
      },
      "cell_type": "code",
      "source": [
        "def get_text_from_page(urls: list[str]):\n",
        "    for url in urls:\n",
        "        article = \"\"\"\"\"\"\n",
        "        response = requests.get(url, headers=headers, timeout=60)\n",
        "        response.encoding = 'utf-8'\n",
        "        soup = BeautifulSoup(response.text, 'lxml')\n",
        "        main = soup.find('div', class_ = 'block')\n",
        "        paragraph = main.find_all(name=['p', 'h1', 'h2'])\n",
        "        for art in paragraph:\n",
        "            paragraph_text = art.text\n",
        "            article += paragraph_text\n",
        "    # return articles\n",
        "\n",
        "        save_article_to_file(url, article)"
      ],
      "id": "48b7bd50d820ff8c",
      "outputs": [],
      "execution_count": null
    },
    {
      "metadata": {
        "ExecuteTime": {
          "end_time": "2025-02-12T21:08:18.791425Z",
          "start_time": "2025-02-12T21:08:18.771289Z"
        },
        "id": "c98e70e41900e2db"
      },
      "cell_type": "code",
      "source": [
        "import time\n",
        "from requests.adapters import HTTPAdapter\n",
        "from urllib3.util.retry import Retry"
      ],
      "id": "c98e70e41900e2db",
      "outputs": [],
      "execution_count": null
    },
    {
      "metadata": {
        "ExecuteTime": {
          "end_time": "2025-02-12T21:08:20.263966Z",
          "start_time": "2025-02-12T21:08:20.236279Z"
        },
        "id": "3f61d9b55cccb029"
      },
      "cell_type": "code",
      "source": [
        "# Configuring session with retry logic\n",
        "session = requests.Session()\n",
        "retries = Retry(\n",
        "    total=5,                # Max retry attempts\n",
        "    backoff_factor=5,       # Delay between attempts (5, 10, 15 sec.)\n",
        "    status_forcelist=[500, 502, 503, 504, 408]  # Retry on these status codes\n",
        ")\n",
        "session.mount(\"https://\", HTTPAdapter(max_retries=retries))\n",
        "\n",
        "def get_text_from_page_2(urls: list[str]):\n",
        "    for url in urls:\n",
        "        article = \"\"\"\"\"\"\n",
        "        try:\n",
        "            response = session.get(url, headers=headers, timeout=60)\n",
        "            response.raise_for_status()  # Check response status (raises error for 4xx/5xx)\n",
        "            response.encoding = 'utf-8'\n",
        "\n",
        "            soup = BeautifulSoup(response.text, 'lxml')\n",
        "            main = soup.find('div', class_='block')\n",
        "\n",
        "            if not main:\n",
        "                print(f\"Content not found on page: {url}\")\n",
        "                continue  # Skip iteration if target block is missing\n",
        "\n",
        "            paragraphs = main.find_all(name=['p', 'h1', 'h2'])\n",
        "            for art in paragraphs:\n",
        "                article += art.text + \"\\n\"\n",
        "\n",
        "            # Saving article\n",
        "            save_article_to_file(url, article)\n",
        "            print(f\"Successfully saved: {url}\")\n",
        "\n",
        "        except requests.exceptions.Timeout:\n",
        "            print(f\"Connection timeout for {url}\")\n",
        "        except requests.exceptions.RequestException as e:\n",
        "            print(f\"Error processing {url}: {e}\")\n",
        "\n",
        "        time.sleep(5)  # Delay before next request"
      ],
      "id": "3f61d9b55cccb029",
      "outputs": [],
      "execution_count": null
    },
    {
      "metadata": {
        "id": "611805237a529101"
      },
      "cell_type": "markdown",
      "source": [
        "Archiving function:"
      ],
      "id": "611805237a529101"
    },
    {
      "metadata": {
        "ExecuteTime": {
          "end_time": "2025-02-12T21:02:51.800498Z",
          "start_time": "2025-02-12T21:02:51.783873Z"
        },
        "id": "ce2c7e4360c39d6b"
      },
      "cell_type": "code",
      "source": [
        "import os"
      ],
      "id": "ce2c7e4360c39d6b",
      "outputs": [],
      "execution_count": null
    },
    {
      "metadata": {
        "ExecuteTime": {
          "end_time": "2025-02-12T21:02:53.928295Z",
          "start_time": "2025-02-12T21:02:53.915876Z"
        },
        "id": "25ebba280d55edf4"
      },
      "cell_type": "code",
      "source": [
        "def save_article_to_file(url, article):\n",
        "\n",
        "    # Extracting information from URL\n",
        "    article_id = url.split('/')[-1]  # \"1209789\" - page/article number\n",
        "\n",
        "    # Creating filename\n",
        "    filename = f\"chukot_article_{article_id}.txt\"\n",
        "\n",
        "\n",
        "    folder = 'C:\\\\Users\\\\eliza\\\\PycharmProjects\\\\course_project\\\\chukot_articles'\n",
        "    filepath = os.path.join(folder, filename)  # File path\n",
        "\n",
        "\n",
        "    # Saving text to file\n",
        "    with open(filepath, 'w+', encoding='utf8') as outf:\n",
        "        outf.write(article)\n",
        "\n",
        "\n",
        "    # return filename\n",
        "    return filepath"
      ],
      "id": "25ebba280d55edf4",
      "outputs": [],
      "execution_count": null
    },
    {
      "metadata": {
        "id": "3586100dd0adc753"
      },
      "cell_type": "markdown",
      "source": [
        "Saving to archive:"
      ],
      "id": "3586100dd0adc753"
    },
    {
      "metadata": {
        "ExecuteTime": {
          "end_time": "2025-02-12T20:48:57.558438Z",
          "start_time": "2025-02-12T20:48:57.547492Z"
        },
        "id": "7fe78202ae4eaa88"
      },
      "cell_type": "code",
      "source": [
        "import zipfile"
      ],
      "id": "7fe78202ae4eaa88",
      "outputs": [],
      "execution_count": null
    },
    {
      "metadata": {
        "id": "6d9e0766d622a2f5"
      },
      "cell_type": "code",
      "source": [
        "zip_filename = \"scraped.zip\"\n",
        "zip = zipfile.ZipFile(zip_filename, \"w\", zipfile.ZIP_DEFLATED)\n",
        "zip.write(\"836239_ru.txt\")\n",
        "zip.close()"
      ],
      "id": "6d9e0766d622a2f5",
      "outputs": [],
      "execution_count": null
    },
    {
      "metadata": {
        "ExecuteTime": {
          "end_time": "2025-02-12T20:49:39.009822Z",
          "start_time": "2025-02-12T20:49:38.994541Z"
        },
        "id": "c641461574d393dc"
      },
      "cell_type": "code",
      "source": [
        "zip_filename = \"scraped.zip\"\n",
        "\n",
        "def file_archivizer(filename):\n",
        "    zip = zipfile.ZipFile(zip_filename, \"w\", zipfile.ZIP_DEFLATED)\n",
        "    zip.write(filename)\n",
        "    zip.close()"
      ],
      "id": "c641461574d393dc",
      "outputs": [],
      "execution_count": null
    },
    {
      "metadata": {
        "id": "2cbbb4920d20fecf"
      },
      "cell_type": "markdown",
      "source": [
        "Execution:"
      ],
      "id": "2cbbb4920d20fecf"
    },
    {
      "metadata": {
        "ExecuteTime": {
          "end_time": "2025-02-12T21:03:26.519333Z",
          "start_time": "2025-02-12T21:03:00.490018Z"
        },
        "id": "1296c7c7d176793",
        "outputId": "9e12bc5f-9134-47d6-aedf-fa1da8bb34e2"
      },
      "cell_type": "code",
      "source": [
        "get_text_from_page(links)"
      ],
      "id": "1296c7c7d176793",
      "outputs": [
        {
          "ename": "ConnectTimeout",
          "evalue": "HTTPSConnectionPool(host='www.ks87.ru', port=443): Max retries exceeded with url: /108/17912 (Caused by ConnectTimeoutError(<urllib3.connection.HTTPSConnection object at 0x000001607919C0E0>, 'Connection to www.ks87.ru timed out. (connect timeout=30)'))",
          "output_type": "error",
          "traceback": [
            "\u001b[1;31m---------------------------------------------------------------------------\u001b[0m",
            "\u001b[1;31mTimeoutError\u001b[0m                              Traceback (most recent call last)",
            "File \u001b[1;32m~\\PycharmProjects\\course_project\\.venv\\Lib\\site-packages\\urllib3\\connection.py:198\u001b[0m, in \u001b[0;36mHTTPConnection._new_conn\u001b[1;34m(self)\u001b[0m\n\u001b[0;32m    197\u001b[0m \u001b[38;5;28;01mtry\u001b[39;00m:\n\u001b[1;32m--> 198\u001b[0m     sock \u001b[38;5;241m=\u001b[39m \u001b[43mconnection\u001b[49m\u001b[38;5;241;43m.\u001b[39;49m\u001b[43mcreate_connection\u001b[49m\u001b[43m(\u001b[49m\n\u001b[0;32m    199\u001b[0m \u001b[43m        \u001b[49m\u001b[43m(\u001b[49m\u001b[38;5;28;43mself\u001b[39;49m\u001b[38;5;241;43m.\u001b[39;49m\u001b[43m_dns_host\u001b[49m\u001b[43m,\u001b[49m\u001b[43m \u001b[49m\u001b[38;5;28;43mself\u001b[39;49m\u001b[38;5;241;43m.\u001b[39;49m\u001b[43mport\u001b[49m\u001b[43m)\u001b[49m\u001b[43m,\u001b[49m\n\u001b[0;32m    200\u001b[0m \u001b[43m        \u001b[49m\u001b[38;5;28;43mself\u001b[39;49m\u001b[38;5;241;43m.\u001b[39;49m\u001b[43mtimeout\u001b[49m\u001b[43m,\u001b[49m\n\u001b[0;32m    201\u001b[0m \u001b[43m        \u001b[49m\u001b[43msource_address\u001b[49m\u001b[38;5;241;43m=\u001b[39;49m\u001b[38;5;28;43mself\u001b[39;49m\u001b[38;5;241;43m.\u001b[39;49m\u001b[43msource_address\u001b[49m\u001b[43m,\u001b[49m\n\u001b[0;32m    202\u001b[0m \u001b[43m        \u001b[49m\u001b[43msocket_options\u001b[49m\u001b[38;5;241;43m=\u001b[39;49m\u001b[38;5;28;43mself\u001b[39;49m\u001b[38;5;241;43m.\u001b[39;49m\u001b[43msocket_options\u001b[49m\u001b[43m,\u001b[49m\n\u001b[0;32m    203\u001b[0m \u001b[43m    \u001b[49m\u001b[43m)\u001b[49m\n\u001b[0;32m    204\u001b[0m \u001b[38;5;28;01mexcept\u001b[39;00m socket\u001b[38;5;241m.\u001b[39mgaierror \u001b[38;5;28;01mas\u001b[39;00m e:\n",
            "File \u001b[1;32m~\\PycharmProjects\\course_project\\.venv\\Lib\\site-packages\\urllib3\\util\\connection.py:85\u001b[0m, in \u001b[0;36mcreate_connection\u001b[1;34m(address, timeout, source_address, socket_options)\u001b[0m\n\u001b[0;32m     84\u001b[0m \u001b[38;5;28;01mtry\u001b[39;00m:\n\u001b[1;32m---> 85\u001b[0m     \u001b[38;5;28;01mraise\u001b[39;00m err\n\u001b[0;32m     86\u001b[0m \u001b[38;5;28;01mfinally\u001b[39;00m:\n\u001b[0;32m     87\u001b[0m     \u001b[38;5;66;03m# Break explicitly a reference cycle\u001b[39;00m\n",
            "File \u001b[1;32m~\\PycharmProjects\\course_project\\.venv\\Lib\\site-packages\\urllib3\\util\\connection.py:73\u001b[0m, in \u001b[0;36mcreate_connection\u001b[1;34m(address, timeout, source_address, socket_options)\u001b[0m\n\u001b[0;32m     72\u001b[0m     sock\u001b[38;5;241m.\u001b[39mbind(source_address)\n\u001b[1;32m---> 73\u001b[0m \u001b[43msock\u001b[49m\u001b[38;5;241;43m.\u001b[39;49m\u001b[43mconnect\u001b[49m\u001b[43m(\u001b[49m\u001b[43msa\u001b[49m\u001b[43m)\u001b[49m\n\u001b[0;32m     74\u001b[0m \u001b[38;5;66;03m# Break explicitly a reference cycle\u001b[39;00m\n",
            "\u001b[1;31mTimeoutError\u001b[0m: [WinError 10060] Попытка установить соединение была безуспешной, т.к. от другого компьютера за требуемое время не получен нужный отклик, или было разорвано уже установленное соединение из-за неверного отклика уже подключенного компьютера",
            "\nThe above exception was the direct cause of the following exception:\n",
            "\u001b[1;31mConnectTimeoutError\u001b[0m                       Traceback (most recent call last)",
            "File \u001b[1;32m~\\PycharmProjects\\course_project\\.venv\\Lib\\site-packages\\urllib3\\connectionpool.py:787\u001b[0m, in \u001b[0;36mHTTPConnectionPool.urlopen\u001b[1;34m(self, method, url, body, headers, retries, redirect, assert_same_host, timeout, pool_timeout, release_conn, chunked, body_pos, preload_content, decode_content, **response_kw)\u001b[0m\n\u001b[0;32m    786\u001b[0m \u001b[38;5;66;03m# Make the request on the HTTPConnection object\u001b[39;00m\n\u001b[1;32m--> 787\u001b[0m response \u001b[38;5;241m=\u001b[39m \u001b[38;5;28;43mself\u001b[39;49m\u001b[38;5;241;43m.\u001b[39;49m\u001b[43m_make_request\u001b[49m\u001b[43m(\u001b[49m\n\u001b[0;32m    788\u001b[0m \u001b[43m    \u001b[49m\u001b[43mconn\u001b[49m\u001b[43m,\u001b[49m\n\u001b[0;32m    789\u001b[0m \u001b[43m    \u001b[49m\u001b[43mmethod\u001b[49m\u001b[43m,\u001b[49m\n\u001b[0;32m    790\u001b[0m \u001b[43m    \u001b[49m\u001b[43murl\u001b[49m\u001b[43m,\u001b[49m\n\u001b[0;32m    791\u001b[0m \u001b[43m    \u001b[49m\u001b[43mtimeout\u001b[49m\u001b[38;5;241;43m=\u001b[39;49m\u001b[43mtimeout_obj\u001b[49m\u001b[43m,\u001b[49m\n\u001b[0;32m    792\u001b[0m \u001b[43m    \u001b[49m\u001b[43mbody\u001b[49m\u001b[38;5;241;43m=\u001b[39;49m\u001b[43mbody\u001b[49m\u001b[43m,\u001b[49m\n\u001b[0;32m    793\u001b[0m \u001b[43m    \u001b[49m\u001b[43mheaders\u001b[49m\u001b[38;5;241;43m=\u001b[39;49m\u001b[43mheaders\u001b[49m\u001b[43m,\u001b[49m\n\u001b[0;32m    794\u001b[0m \u001b[43m    \u001b[49m\u001b[43mchunked\u001b[49m\u001b[38;5;241;43m=\u001b[39;49m\u001b[43mchunked\u001b[49m\u001b[43m,\u001b[49m\n\u001b[0;32m    795\u001b[0m \u001b[43m    \u001b[49m\u001b[43mretries\u001b[49m\u001b[38;5;241;43m=\u001b[39;49m\u001b[43mretries\u001b[49m\u001b[43m,\u001b[49m\n\u001b[0;32m    796\u001b[0m \u001b[43m    \u001b[49m\u001b[43mresponse_conn\u001b[49m\u001b[38;5;241;43m=\u001b[39;49m\u001b[43mresponse_conn\u001b[49m\u001b[43m,\u001b[49m\n\u001b[0;32m    797\u001b[0m \u001b[43m    \u001b[49m\u001b[43mpreload_content\u001b[49m\u001b[38;5;241;43m=\u001b[39;49m\u001b[43mpreload_content\u001b[49m\u001b[43m,\u001b[49m\n\u001b[0;32m    798\u001b[0m \u001b[43m    \u001b[49m\u001b[43mdecode_content\u001b[49m\u001b[38;5;241;43m=\u001b[39;49m\u001b[43mdecode_content\u001b[49m\u001b[43m,\u001b[49m\n\u001b[0;32m    799\u001b[0m \u001b[43m    \u001b[49m\u001b[38;5;241;43m*\u001b[39;49m\u001b[38;5;241;43m*\u001b[39;49m\u001b[43mresponse_kw\u001b[49m\u001b[43m,\u001b[49m\n\u001b[0;32m    800\u001b[0m \u001b[43m\u001b[49m\u001b[43m)\u001b[49m\n\u001b[0;32m    802\u001b[0m \u001b[38;5;66;03m# Everything went great!\u001b[39;00m\n",
            "File \u001b[1;32m~\\PycharmProjects\\course_project\\.venv\\Lib\\site-packages\\urllib3\\connectionpool.py:488\u001b[0m, in \u001b[0;36mHTTPConnectionPool._make_request\u001b[1;34m(self, conn, method, url, body, headers, retries, timeout, chunked, response_conn, preload_content, decode_content, enforce_content_length)\u001b[0m\n\u001b[0;32m    487\u001b[0m         new_e \u001b[38;5;241m=\u001b[39m _wrap_proxy_error(new_e, conn\u001b[38;5;241m.\u001b[39mproxy\u001b[38;5;241m.\u001b[39mscheme)\n\u001b[1;32m--> 488\u001b[0m     \u001b[38;5;28;01mraise\u001b[39;00m new_e\n\u001b[0;32m    490\u001b[0m \u001b[38;5;66;03m# conn.request() calls http.client.*.request, not the method in\u001b[39;00m\n\u001b[0;32m    491\u001b[0m \u001b[38;5;66;03m# urllib3.request. It also calls makefile (recv) on the socket.\u001b[39;00m\n",
            "File \u001b[1;32m~\\PycharmProjects\\course_project\\.venv\\Lib\\site-packages\\urllib3\\connectionpool.py:464\u001b[0m, in \u001b[0;36mHTTPConnectionPool._make_request\u001b[1;34m(self, conn, method, url, body, headers, retries, timeout, chunked, response_conn, preload_content, decode_content, enforce_content_length)\u001b[0m\n\u001b[0;32m    463\u001b[0m \u001b[38;5;28;01mtry\u001b[39;00m:\n\u001b[1;32m--> 464\u001b[0m     \u001b[38;5;28;43mself\u001b[39;49m\u001b[38;5;241;43m.\u001b[39;49m\u001b[43m_validate_conn\u001b[49m\u001b[43m(\u001b[49m\u001b[43mconn\u001b[49m\u001b[43m)\u001b[49m\n\u001b[0;32m    465\u001b[0m \u001b[38;5;28;01mexcept\u001b[39;00m (SocketTimeout, BaseSSLError) \u001b[38;5;28;01mas\u001b[39;00m e:\n",
            "File \u001b[1;32m~\\PycharmProjects\\course_project\\.venv\\Lib\\site-packages\\urllib3\\connectionpool.py:1093\u001b[0m, in \u001b[0;36mHTTPSConnectionPool._validate_conn\u001b[1;34m(self, conn)\u001b[0m\n\u001b[0;32m   1092\u001b[0m \u001b[38;5;28;01mif\u001b[39;00m conn\u001b[38;5;241m.\u001b[39mis_closed:\n\u001b[1;32m-> 1093\u001b[0m     \u001b[43mconn\u001b[49m\u001b[38;5;241;43m.\u001b[39;49m\u001b[43mconnect\u001b[49m\u001b[43m(\u001b[49m\u001b[43m)\u001b[49m\n\u001b[0;32m   1095\u001b[0m \u001b[38;5;66;03m# TODO revise this, see https://github.com/urllib3/urllib3/issues/2791\u001b[39;00m\n",
            "File \u001b[1;32m~\\PycharmProjects\\course_project\\.venv\\Lib\\site-packages\\urllib3\\connection.py:704\u001b[0m, in \u001b[0;36mHTTPSConnection.connect\u001b[1;34m(self)\u001b[0m\n\u001b[0;32m    703\u001b[0m sock: socket\u001b[38;5;241m.\u001b[39msocket \u001b[38;5;241m|\u001b[39m ssl\u001b[38;5;241m.\u001b[39mSSLSocket\n\u001b[1;32m--> 704\u001b[0m \u001b[38;5;28mself\u001b[39m\u001b[38;5;241m.\u001b[39msock \u001b[38;5;241m=\u001b[39m sock \u001b[38;5;241m=\u001b[39m \u001b[38;5;28;43mself\u001b[39;49m\u001b[38;5;241;43m.\u001b[39;49m\u001b[43m_new_conn\u001b[49m\u001b[43m(\u001b[49m\u001b[43m)\u001b[49m\n\u001b[0;32m    705\u001b[0m server_hostname: \u001b[38;5;28mstr\u001b[39m \u001b[38;5;241m=\u001b[39m \u001b[38;5;28mself\u001b[39m\u001b[38;5;241m.\u001b[39mhost\n",
            "File \u001b[1;32m~\\PycharmProjects\\course_project\\.venv\\Lib\\site-packages\\urllib3\\connection.py:207\u001b[0m, in \u001b[0;36mHTTPConnection._new_conn\u001b[1;34m(self)\u001b[0m\n\u001b[0;32m    206\u001b[0m \u001b[38;5;28;01mexcept\u001b[39;00m SocketTimeout \u001b[38;5;28;01mas\u001b[39;00m e:\n\u001b[1;32m--> 207\u001b[0m     \u001b[38;5;28;01mraise\u001b[39;00m ConnectTimeoutError(\n\u001b[0;32m    208\u001b[0m         \u001b[38;5;28mself\u001b[39m,\n\u001b[0;32m    209\u001b[0m         \u001b[38;5;124mf\u001b[39m\u001b[38;5;124m\"\u001b[39m\u001b[38;5;124mConnection to \u001b[39m\u001b[38;5;132;01m{\u001b[39;00m\u001b[38;5;28mself\u001b[39m\u001b[38;5;241m.\u001b[39mhost\u001b[38;5;132;01m}\u001b[39;00m\u001b[38;5;124m timed out. (connect timeout=\u001b[39m\u001b[38;5;132;01m{\u001b[39;00m\u001b[38;5;28mself\u001b[39m\u001b[38;5;241m.\u001b[39mtimeout\u001b[38;5;132;01m}\u001b[39;00m\u001b[38;5;124m)\u001b[39m\u001b[38;5;124m\"\u001b[39m,\n\u001b[0;32m    210\u001b[0m     ) \u001b[38;5;28;01mfrom\u001b[39;00m\u001b[38;5;250m \u001b[39m\u001b[38;5;21;01me\u001b[39;00m\n\u001b[0;32m    212\u001b[0m \u001b[38;5;28;01mexcept\u001b[39;00m \u001b[38;5;167;01mOSError\u001b[39;00m \u001b[38;5;28;01mas\u001b[39;00m e:\n",
            "\u001b[1;31mConnectTimeoutError\u001b[0m: (<urllib3.connection.HTTPSConnection object at 0x000001607919C0E0>, 'Connection to www.ks87.ru timed out. (connect timeout=30)')",
            "\nThe above exception was the direct cause of the following exception:\n",
            "\u001b[1;31mMaxRetryError\u001b[0m                             Traceback (most recent call last)",
            "File \u001b[1;32m~\\PycharmProjects\\course_project\\.venv\\Lib\\site-packages\\requests\\adapters.py:667\u001b[0m, in \u001b[0;36mHTTPAdapter.send\u001b[1;34m(self, request, stream, timeout, verify, cert, proxies)\u001b[0m\n\u001b[0;32m    666\u001b[0m \u001b[38;5;28;01mtry\u001b[39;00m:\n\u001b[1;32m--> 667\u001b[0m     resp \u001b[38;5;241m=\u001b[39m \u001b[43mconn\u001b[49m\u001b[38;5;241;43m.\u001b[39;49m\u001b[43murlopen\u001b[49m\u001b[43m(\u001b[49m\n\u001b[0;32m    668\u001b[0m \u001b[43m        \u001b[49m\u001b[43mmethod\u001b[49m\u001b[38;5;241;43m=\u001b[39;49m\u001b[43mrequest\u001b[49m\u001b[38;5;241;43m.\u001b[39;49m\u001b[43mmethod\u001b[49m\u001b[43m,\u001b[49m\n\u001b[0;32m    669\u001b[0m \u001b[43m        \u001b[49m\u001b[43murl\u001b[49m\u001b[38;5;241;43m=\u001b[39;49m\u001b[43murl\u001b[49m\u001b[43m,\u001b[49m\n\u001b[0;32m    670\u001b[0m \u001b[43m        \u001b[49m\u001b[43mbody\u001b[49m\u001b[38;5;241;43m=\u001b[39;49m\u001b[43mrequest\u001b[49m\u001b[38;5;241;43m.\u001b[39;49m\u001b[43mbody\u001b[49m\u001b[43m,\u001b[49m\n\u001b[0;32m    671\u001b[0m \u001b[43m        \u001b[49m\u001b[43mheaders\u001b[49m\u001b[38;5;241;43m=\u001b[39;49m\u001b[43mrequest\u001b[49m\u001b[38;5;241;43m.\u001b[39;49m\u001b[43mheaders\u001b[49m\u001b[43m,\u001b[49m\n\u001b[0;32m    672\u001b[0m \u001b[43m        \u001b[49m\u001b[43mredirect\u001b[49m\u001b[38;5;241;43m=\u001b[39;49m\u001b[38;5;28;43;01mFalse\u001b[39;49;00m\u001b[43m,\u001b[49m\n\u001b[0;32m    673\u001b[0m \u001b[43m        \u001b[49m\u001b[43massert_same_host\u001b[49m\u001b[38;5;241;43m=\u001b[39;49m\u001b[38;5;28;43;01mFalse\u001b[39;49;00m\u001b[43m,\u001b[49m\n\u001b[0;32m    674\u001b[0m \u001b[43m        \u001b[49m\u001b[43mpreload_content\u001b[49m\u001b[38;5;241;43m=\u001b[39;49m\u001b[38;5;28;43;01mFalse\u001b[39;49;00m\u001b[43m,\u001b[49m\n\u001b[0;32m    675\u001b[0m \u001b[43m        \u001b[49m\u001b[43mdecode_content\u001b[49m\u001b[38;5;241;43m=\u001b[39;49m\u001b[38;5;28;43;01mFalse\u001b[39;49;00m\u001b[43m,\u001b[49m\n\u001b[0;32m    676\u001b[0m \u001b[43m        \u001b[49m\u001b[43mretries\u001b[49m\u001b[38;5;241;43m=\u001b[39;49m\u001b[38;5;28;43mself\u001b[39;49m\u001b[38;5;241;43m.\u001b[39;49m\u001b[43mmax_retries\u001b[49m\u001b[43m,\u001b[49m\n\u001b[0;32m    677\u001b[0m \u001b[43m        \u001b[49m\u001b[43mtimeout\u001b[49m\u001b[38;5;241;43m=\u001b[39;49m\u001b[43mtimeout\u001b[49m\u001b[43m,\u001b[49m\n\u001b[0;32m    678\u001b[0m \u001b[43m        \u001b[49m\u001b[43mchunked\u001b[49m\u001b[38;5;241;43m=\u001b[39;49m\u001b[43mchunked\u001b[49m\u001b[43m,\u001b[49m\n\u001b[0;32m    679\u001b[0m \u001b[43m    \u001b[49m\u001b[43m)\u001b[49m\n\u001b[0;32m    681\u001b[0m \u001b[38;5;28;01mexcept\u001b[39;00m (ProtocolError, \u001b[38;5;167;01mOSError\u001b[39;00m) \u001b[38;5;28;01mas\u001b[39;00m err:\n",
            "File \u001b[1;32m~\\PycharmProjects\\course_project\\.venv\\Lib\\site-packages\\urllib3\\connectionpool.py:841\u001b[0m, in \u001b[0;36mHTTPConnectionPool.urlopen\u001b[1;34m(self, method, url, body, headers, retries, redirect, assert_same_host, timeout, pool_timeout, release_conn, chunked, body_pos, preload_content, decode_content, **response_kw)\u001b[0m\n\u001b[0;32m    839\u001b[0m     new_e \u001b[38;5;241m=\u001b[39m ProtocolError(\u001b[38;5;124m\"\u001b[39m\u001b[38;5;124mConnection aborted.\u001b[39m\u001b[38;5;124m\"\u001b[39m, new_e)\n\u001b[1;32m--> 841\u001b[0m retries \u001b[38;5;241m=\u001b[39m \u001b[43mretries\u001b[49m\u001b[38;5;241;43m.\u001b[39;49m\u001b[43mincrement\u001b[49m\u001b[43m(\u001b[49m\n\u001b[0;32m    842\u001b[0m \u001b[43m    \u001b[49m\u001b[43mmethod\u001b[49m\u001b[43m,\u001b[49m\u001b[43m \u001b[49m\u001b[43murl\u001b[49m\u001b[43m,\u001b[49m\u001b[43m \u001b[49m\u001b[43merror\u001b[49m\u001b[38;5;241;43m=\u001b[39;49m\u001b[43mnew_e\u001b[49m\u001b[43m,\u001b[49m\u001b[43m \u001b[49m\u001b[43m_pool\u001b[49m\u001b[38;5;241;43m=\u001b[39;49m\u001b[38;5;28;43mself\u001b[39;49m\u001b[43m,\u001b[49m\u001b[43m \u001b[49m\u001b[43m_stacktrace\u001b[49m\u001b[38;5;241;43m=\u001b[39;49m\u001b[43msys\u001b[49m\u001b[38;5;241;43m.\u001b[39;49m\u001b[43mexc_info\u001b[49m\u001b[43m(\u001b[49m\u001b[43m)\u001b[49m\u001b[43m[\u001b[49m\u001b[38;5;241;43m2\u001b[39;49m\u001b[43m]\u001b[49m\n\u001b[0;32m    843\u001b[0m \u001b[43m\u001b[49m\u001b[43m)\u001b[49m\n\u001b[0;32m    844\u001b[0m retries\u001b[38;5;241m.\u001b[39msleep()\n",
            "File \u001b[1;32m~\\PycharmProjects\\course_project\\.venv\\Lib\\site-packages\\urllib3\\util\\retry.py:519\u001b[0m, in \u001b[0;36mRetry.increment\u001b[1;34m(self, method, url, response, error, _pool, _stacktrace)\u001b[0m\n\u001b[0;32m    518\u001b[0m     reason \u001b[38;5;241m=\u001b[39m error \u001b[38;5;129;01mor\u001b[39;00m ResponseError(cause)\n\u001b[1;32m--> 519\u001b[0m     \u001b[38;5;28;01mraise\u001b[39;00m MaxRetryError(_pool, url, reason) \u001b[38;5;28;01mfrom\u001b[39;00m\u001b[38;5;250m \u001b[39m\u001b[38;5;21;01mreason\u001b[39;00m  \u001b[38;5;66;03m# type: ignore[arg-type]\u001b[39;00m\n\u001b[0;32m    521\u001b[0m log\u001b[38;5;241m.\u001b[39mdebug(\u001b[38;5;124m\"\u001b[39m\u001b[38;5;124mIncremented Retry for (url=\u001b[39m\u001b[38;5;124m'\u001b[39m\u001b[38;5;132;01m%s\u001b[39;00m\u001b[38;5;124m'\u001b[39m\u001b[38;5;124m): \u001b[39m\u001b[38;5;132;01m%r\u001b[39;00m\u001b[38;5;124m\"\u001b[39m, url, new_retry)\n",
            "\u001b[1;31mMaxRetryError\u001b[0m: HTTPSConnectionPool(host='www.ks87.ru', port=443): Max retries exceeded with url: /108/17912 (Caused by ConnectTimeoutError(<urllib3.connection.HTTPSConnection object at 0x000001607919C0E0>, 'Connection to www.ks87.ru timed out. (connect timeout=30)'))",
            "\nDuring handling of the above exception, another exception occurred:\n",
            "\u001b[1;31mConnectTimeout\u001b[0m                            Traceback (most recent call last)",
            "Cell \u001b[1;32mIn[29], line 1\u001b[0m\n\u001b[1;32m----> 1\u001b[0m \u001b[43mget_text_from_page\u001b[49m\u001b[43m(\u001b[49m\u001b[43mlinks\u001b[49m\u001b[43m)\u001b[49m\n",
            "Cell \u001b[1;32mIn[26], line 4\u001b[0m, in \u001b[0;36mget_text_from_page\u001b[1;34m(urls)\u001b[0m\n\u001b[0;32m      2\u001b[0m \u001b[38;5;28;01mfor\u001b[39;00m url \u001b[38;5;129;01min\u001b[39;00m urls:\n\u001b[0;32m      3\u001b[0m     article \u001b[38;5;241m=\u001b[39m \u001b[38;5;124m\"\"\"\u001b[39m\u001b[38;5;124m\"\"\"\u001b[39m\n\u001b[1;32m----> 4\u001b[0m     response \u001b[38;5;241m=\u001b[39m \u001b[43mrequests\u001b[49m\u001b[38;5;241;43m.\u001b[39;49m\u001b[43mget\u001b[49m\u001b[43m(\u001b[49m\u001b[43murl\u001b[49m\u001b[43m,\u001b[49m\u001b[43m \u001b[49m\u001b[43mheaders\u001b[49m\u001b[38;5;241;43m=\u001b[39;49m\u001b[43mheaders\u001b[49m\u001b[43m,\u001b[49m\u001b[43m \u001b[49m\u001b[43mtimeout\u001b[49m\u001b[38;5;241;43m=\u001b[39;49m\u001b[38;5;241;43m30\u001b[39;49m\u001b[43m)\u001b[49m\n\u001b[0;32m      5\u001b[0m     response\u001b[38;5;241m.\u001b[39mencoding \u001b[38;5;241m=\u001b[39m \u001b[38;5;124m'\u001b[39m\u001b[38;5;124mutf-8\u001b[39m\u001b[38;5;124m'\u001b[39m\n\u001b[0;32m      6\u001b[0m     soup \u001b[38;5;241m=\u001b[39m BeautifulSoup(response\u001b[38;5;241m.\u001b[39mtext, \u001b[38;5;124m'\u001b[39m\u001b[38;5;124mlxml\u001b[39m\u001b[38;5;124m'\u001b[39m)\n",
            "File \u001b[1;32m~\\PycharmProjects\\course_project\\.venv\\Lib\\site-packages\\requests\\api.py:73\u001b[0m, in \u001b[0;36mget\u001b[1;34m(url, params, **kwargs)\u001b[0m\n\u001b[0;32m     62\u001b[0m \u001b[38;5;28;01mdef\u001b[39;00m\u001b[38;5;250m \u001b[39m\u001b[38;5;21mget\u001b[39m(url, params\u001b[38;5;241m=\u001b[39m\u001b[38;5;28;01mNone\u001b[39;00m, \u001b[38;5;241m*\u001b[39m\u001b[38;5;241m*\u001b[39mkwargs):\n\u001b[0;32m     63\u001b[0m \u001b[38;5;250m    \u001b[39m\u001b[38;5;124mr\u001b[39m\u001b[38;5;124;03m\"\"\"Sends a GET request.\u001b[39;00m\n\u001b[0;32m     64\u001b[0m \n\u001b[0;32m     65\u001b[0m \u001b[38;5;124;03m    :param url: URL for the new :class:`Request` object.\u001b[39;00m\n\u001b[1;32m   (...)\u001b[0m\n\u001b[0;32m     70\u001b[0m \u001b[38;5;124;03m    :rtype: requests.Response\u001b[39;00m\n\u001b[0;32m     71\u001b[0m \u001b[38;5;124;03m    \"\"\"\u001b[39;00m\n\u001b[1;32m---> 73\u001b[0m     \u001b[38;5;28;01mreturn\u001b[39;00m \u001b[43mrequest\u001b[49m\u001b[43m(\u001b[49m\u001b[38;5;124;43m\"\u001b[39;49m\u001b[38;5;124;43mget\u001b[39;49m\u001b[38;5;124;43m\"\u001b[39;49m\u001b[43m,\u001b[49m\u001b[43m \u001b[49m\u001b[43murl\u001b[49m\u001b[43m,\u001b[49m\u001b[43m \u001b[49m\u001b[43mparams\u001b[49m\u001b[38;5;241;43m=\u001b[39;49m\u001b[43mparams\u001b[49m\u001b[43m,\u001b[49m\u001b[43m \u001b[49m\u001b[38;5;241;43m*\u001b[39;49m\u001b[38;5;241;43m*\u001b[39;49m\u001b[43mkwargs\u001b[49m\u001b[43m)\u001b[49m\n",
            "File \u001b[1;32m~\\PycharmProjects\\course_project\\.venv\\Lib\\site-packages\\requests\\api.py:59\u001b[0m, in \u001b[0;36mrequest\u001b[1;34m(method, url, **kwargs)\u001b[0m\n\u001b[0;32m     55\u001b[0m \u001b[38;5;66;03m# By using the 'with' statement we are sure the session is closed, thus we\u001b[39;00m\n\u001b[0;32m     56\u001b[0m \u001b[38;5;66;03m# avoid leaving sockets open which can trigger a ResourceWarning in some\u001b[39;00m\n\u001b[0;32m     57\u001b[0m \u001b[38;5;66;03m# cases, and look like a memory leak in others.\u001b[39;00m\n\u001b[0;32m     58\u001b[0m \u001b[38;5;28;01mwith\u001b[39;00m sessions\u001b[38;5;241m.\u001b[39mSession() \u001b[38;5;28;01mas\u001b[39;00m session:\n\u001b[1;32m---> 59\u001b[0m     \u001b[38;5;28;01mreturn\u001b[39;00m \u001b[43msession\u001b[49m\u001b[38;5;241;43m.\u001b[39;49m\u001b[43mrequest\u001b[49m\u001b[43m(\u001b[49m\u001b[43mmethod\u001b[49m\u001b[38;5;241;43m=\u001b[39;49m\u001b[43mmethod\u001b[49m\u001b[43m,\u001b[49m\u001b[43m \u001b[49m\u001b[43murl\u001b[49m\u001b[38;5;241;43m=\u001b[39;49m\u001b[43murl\u001b[49m\u001b[43m,\u001b[49m\u001b[43m \u001b[49m\u001b[38;5;241;43m*\u001b[39;49m\u001b[38;5;241;43m*\u001b[39;49m\u001b[43mkwargs\u001b[49m\u001b[43m)\u001b[49m\n",
            "File \u001b[1;32m~\\PycharmProjects\\course_project\\.venv\\Lib\\site-packages\\requests\\sessions.py:589\u001b[0m, in \u001b[0;36mSession.request\u001b[1;34m(self, method, url, params, data, headers, cookies, files, auth, timeout, allow_redirects, proxies, hooks, stream, verify, cert, json)\u001b[0m\n\u001b[0;32m    584\u001b[0m send_kwargs \u001b[38;5;241m=\u001b[39m {\n\u001b[0;32m    585\u001b[0m     \u001b[38;5;124m\"\u001b[39m\u001b[38;5;124mtimeout\u001b[39m\u001b[38;5;124m\"\u001b[39m: timeout,\n\u001b[0;32m    586\u001b[0m     \u001b[38;5;124m\"\u001b[39m\u001b[38;5;124mallow_redirects\u001b[39m\u001b[38;5;124m\"\u001b[39m: allow_redirects,\n\u001b[0;32m    587\u001b[0m }\n\u001b[0;32m    588\u001b[0m send_kwargs\u001b[38;5;241m.\u001b[39mupdate(settings)\n\u001b[1;32m--> 589\u001b[0m resp \u001b[38;5;241m=\u001b[39m \u001b[38;5;28;43mself\u001b[39;49m\u001b[38;5;241;43m.\u001b[39;49m\u001b[43msend\u001b[49m\u001b[43m(\u001b[49m\u001b[43mprep\u001b[49m\u001b[43m,\u001b[49m\u001b[43m \u001b[49m\u001b[38;5;241;43m*\u001b[39;49m\u001b[38;5;241;43m*\u001b[39;49m\u001b[43msend_kwargs\u001b[49m\u001b[43m)\u001b[49m\n\u001b[0;32m    591\u001b[0m \u001b[38;5;28;01mreturn\u001b[39;00m resp\n",
            "File \u001b[1;32m~\\PycharmProjects\\course_project\\.venv\\Lib\\site-packages\\requests\\sessions.py:703\u001b[0m, in \u001b[0;36mSession.send\u001b[1;34m(self, request, **kwargs)\u001b[0m\n\u001b[0;32m    700\u001b[0m start \u001b[38;5;241m=\u001b[39m preferred_clock()\n\u001b[0;32m    702\u001b[0m \u001b[38;5;66;03m# Send the request\u001b[39;00m\n\u001b[1;32m--> 703\u001b[0m r \u001b[38;5;241m=\u001b[39m \u001b[43madapter\u001b[49m\u001b[38;5;241;43m.\u001b[39;49m\u001b[43msend\u001b[49m\u001b[43m(\u001b[49m\u001b[43mrequest\u001b[49m\u001b[43m,\u001b[49m\u001b[43m \u001b[49m\u001b[38;5;241;43m*\u001b[39;49m\u001b[38;5;241;43m*\u001b[39;49m\u001b[43mkwargs\u001b[49m\u001b[43m)\u001b[49m\n\u001b[0;32m    705\u001b[0m \u001b[38;5;66;03m# Total elapsed time of the request (approximately)\u001b[39;00m\n\u001b[0;32m    706\u001b[0m elapsed \u001b[38;5;241m=\u001b[39m preferred_clock() \u001b[38;5;241m-\u001b[39m start\n",
            "File \u001b[1;32m~\\PycharmProjects\\course_project\\.venv\\Lib\\site-packages\\requests\\adapters.py:688\u001b[0m, in \u001b[0;36mHTTPAdapter.send\u001b[1;34m(self, request, stream, timeout, verify, cert, proxies)\u001b[0m\n\u001b[0;32m    685\u001b[0m \u001b[38;5;28;01mif\u001b[39;00m \u001b[38;5;28misinstance\u001b[39m(e\u001b[38;5;241m.\u001b[39mreason, ConnectTimeoutError):\n\u001b[0;32m    686\u001b[0m     \u001b[38;5;66;03m# TODO: Remove this in 3.0.0: see #2811\u001b[39;00m\n\u001b[0;32m    687\u001b[0m     \u001b[38;5;28;01mif\u001b[39;00m \u001b[38;5;129;01mnot\u001b[39;00m \u001b[38;5;28misinstance\u001b[39m(e\u001b[38;5;241m.\u001b[39mreason, NewConnectionError):\n\u001b[1;32m--> 688\u001b[0m         \u001b[38;5;28;01mraise\u001b[39;00m ConnectTimeout(e, request\u001b[38;5;241m=\u001b[39mrequest)\n\u001b[0;32m    690\u001b[0m \u001b[38;5;28;01mif\u001b[39;00m \u001b[38;5;28misinstance\u001b[39m(e\u001b[38;5;241m.\u001b[39mreason, ResponseError):\n\u001b[0;32m    691\u001b[0m     \u001b[38;5;28;01mraise\u001b[39;00m RetryError(e, request\u001b[38;5;241m=\u001b[39mrequest)\n",
            "\u001b[1;31mConnectTimeout\u001b[0m: HTTPSConnectionPool(host='www.ks87.ru', port=443): Max retries exceeded with url: /108/17912 (Caused by ConnectTimeoutError(<urllib3.connection.HTTPSConnection object at 0x000001607919C0E0>, 'Connection to www.ks87.ru timed out. (connect timeout=30)'))"
          ]
        }
      ],
      "execution_count": null
    },
    {
      "metadata": {
        "ExecuteTime": {
          "end_time": "2025-02-12T21:26:54.846126Z",
          "start_time": "2025-02-12T21:08:32.810114Z"
        },
        "id": "ff609b35918ebad9"
      },
      "cell_type": "code",
      "source": [
        "get_text_from_page_2(links)"
      ],
      "id": "ff609b35918ebad9",
      "outputs": [],
      "execution_count": null
    },
    {
      "metadata": {
        "ExecuteTime": {
          "end_time": "2025-02-12T20:59:39.591594Z",
          "start_time": "2025-02-12T20:59:38.622315Z"
        },
        "id": "5a1bc0d6231a26a2"
      },
      "cell_type": "code",
      "source": [
        "get_text_from_page(['https://www.ks87.ru/108/18679'])"
      ],
      "id": "5a1bc0d6231a26a2",
      "outputs": [],
      "execution_count": null
    },
    {
      "metadata": {
        "ExecuteTime": {
          "end_time": "2025-02-12T20:49:45.878638Z",
          "start_time": "2025-02-12T20:49:45.849938Z"
        },
        "id": "96365ef1f8057853"
      },
      "cell_type": "code",
      "source": [
        "file_archivizer('chukot_article_18679.txt')"
      ],
      "id": "96365ef1f8057853",
      "outputs": [],
      "execution_count": null
    }
  ],
  "metadata": {
    "kernelspec": {
      "display_name": "Python 3",
      "language": "python",
      "name": "python3"
    },
    "language_info": {
      "codemirror_mode": {
        "name": "ipython",
        "version": 2
      },
      "file_extension": ".py",
      "mimetype": "text/x-python",
      "name": "python",
      "nbconvert_exporter": "python",
      "pygments_lexer": "ipython2",
      "version": "2.7.6"
    },
    "colab": {
      "provenance": []
    }
  },
  "nbformat": 4,
  "nbformat_minor": 5
}