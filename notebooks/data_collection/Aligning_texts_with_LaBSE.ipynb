{
  "nbformat": 4,
  "nbformat_minor": 0,
  "metadata": {
    "colab": {
      "provenance": [],
      "gpuType": "T4"
    },
    "kernelspec": {
      "name": "python3",
      "display_name": "Python 3"
    },
    "language_info": {
      "name": "python"
    },
    "accelerator": "GPU"
  },
  "cells": [
    {
      "cell_type": "markdown",
      "source": [
        "# **Notebook for Text Alignment Using Fine-Tuned LaBSE Model**"
      ],
      "metadata": {
        "id": "KxVAV72R1WNZ"
      }
    },
    {
      "cell_type": "markdown",
      "source": [
        "Alignment is performed using the **[lingtrain aligner](https://github.com/averkij/lingtrain-aligner)** library"
      ],
      "metadata": {
        "id": "6025INoW1s7G"
      }
    },
    {
      "cell_type": "code",
      "execution_count": null,
      "metadata": {
        "id": "310a9bf1-12b1-4656-80ed-27c730be4b1f",
        "colab": {
          "base_uri": "https://localhost:8080/"
        },
        "outputId": "8bd8704c-6259-458b-f89a-933b87097a21"
      },
      "outputs": [
        {
          "output_type": "stream",
          "name": "stdout",
          "text": [
            "Requirement already satisfied: seaborn in /usr/local/lib/python3.11/dist-packages (0.13.2)\n",
            "Requirement already satisfied: more_itertools in /usr/local/lib/python3.11/dist-packages (10.7.0)\n",
            "Requirement already satisfied: lingtrain-aligner==0.9.4 in /usr/local/lib/python3.11/dist-packages (0.9.4)\n",
            "Requirement already satisfied: dateparser in /usr/local/lib/python3.11/dist-packages (1.2.1)\n",
            "Requirement already satisfied: sentence_transformers in /usr/local/lib/python3.11/dist-packages (4.1.0)\n",
            "Requirement already satisfied: sentencepiece in /usr/local/lib/python3.11/dist-packages (0.2.0)\n",
            "Requirement already satisfied: transformers in /usr/local/lib/python3.11/dist-packages (4.51.3)\n",
            "Requirement already satisfied: razdel in /usr/local/lib/python3.11/dist-packages (0.5.0)\n",
            "Requirement already satisfied: datasets in /usr/local/lib/python3.11/dist-packages (2.14.4)\n",
            "Requirement already satisfied: numpy!=1.24.0,>=1.20 in /usr/local/lib/python3.11/dist-packages (from seaborn) (2.0.2)\n",
            "Requirement already satisfied: pandas>=1.2 in /usr/local/lib/python3.11/dist-packages (from seaborn) (2.2.2)\n",
            "Requirement already satisfied: matplotlib!=3.6.1,>=3.4 in /usr/local/lib/python3.11/dist-packages (from seaborn) (3.10.0)\n",
            "Requirement already satisfied: python-dateutil>=2.7.0 in /usr/local/lib/python3.11/dist-packages (from dateparser) (2.9.0.post0)\n",
            "Requirement already satisfied: pytz>=2024.2 in /usr/local/lib/python3.11/dist-packages (from dateparser) (2025.2)\n",
            "Requirement already satisfied: regex!=2019.02.19,!=2021.8.27,>=2015.06.24 in /usr/local/lib/python3.11/dist-packages (from dateparser) (2024.11.6)\n",
            "Requirement already satisfied: tzlocal>=0.2 in /usr/local/lib/python3.11/dist-packages (from dateparser) (5.3.1)\n",
            "Requirement already satisfied: tqdm in /usr/local/lib/python3.11/dist-packages (from sentence_transformers) (4.67.1)\n",
            "Requirement already satisfied: torch>=1.11.0 in /usr/local/lib/python3.11/dist-packages (from sentence_transformers) (2.6.0+cu124)\n",
            "Requirement already satisfied: scikit-learn in /usr/local/lib/python3.11/dist-packages (from sentence_transformers) (1.6.1)\n",
            "Requirement already satisfied: scipy in /usr/local/lib/python3.11/dist-packages (from sentence_transformers) (1.15.3)\n",
            "Requirement already satisfied: huggingface-hub>=0.20.0 in /usr/local/lib/python3.11/dist-packages (from sentence_transformers) (0.31.2)\n",
            "Requirement already satisfied: Pillow in /usr/local/lib/python3.11/dist-packages (from sentence_transformers) (11.2.1)\n",
            "Requirement already satisfied: typing_extensions>=4.5.0 in /usr/local/lib/python3.11/dist-packages (from sentence_transformers) (4.13.2)\n",
            "Requirement already satisfied: filelock in /usr/local/lib/python3.11/dist-packages (from transformers) (3.18.0)\n",
            "Requirement already satisfied: packaging>=20.0 in /usr/local/lib/python3.11/dist-packages (from transformers) (24.2)\n",
            "Requirement already satisfied: pyyaml>=5.1 in /usr/local/lib/python3.11/dist-packages (from transformers) (6.0.2)\n",
            "Requirement already satisfied: requests in /usr/local/lib/python3.11/dist-packages (from transformers) (2.32.3)\n",
            "Requirement already satisfied: tokenizers<0.22,>=0.21 in /usr/local/lib/python3.11/dist-packages (from transformers) (0.21.1)\n",
            "Requirement already satisfied: safetensors>=0.4.3 in /usr/local/lib/python3.11/dist-packages (from transformers) (0.5.3)\n",
            "Requirement already satisfied: pyarrow>=8.0.0 in /usr/local/lib/python3.11/dist-packages (from datasets) (18.1.0)\n",
            "Requirement already satisfied: dill<0.3.8,>=0.3.0 in /usr/local/lib/python3.11/dist-packages (from datasets) (0.3.7)\n",
            "Requirement already satisfied: xxhash in /usr/local/lib/python3.11/dist-packages (from datasets) (3.5.0)\n",
            "Requirement already satisfied: multiprocess in /usr/local/lib/python3.11/dist-packages (from datasets) (0.70.15)\n",
            "Requirement already satisfied: fsspec>=2021.11.1 in /usr/local/lib/python3.11/dist-packages (from fsspec[http]>=2021.11.1->datasets) (2025.3.2)\n",
            "Requirement already satisfied: aiohttp in /usr/local/lib/python3.11/dist-packages (from datasets) (3.11.15)\n",
            "Requirement already satisfied: aiohappyeyeballs>=2.3.0 in /usr/local/lib/python3.11/dist-packages (from aiohttp->datasets) (2.6.1)\n",
            "Requirement already satisfied: aiosignal>=1.1.2 in /usr/local/lib/python3.11/dist-packages (from aiohttp->datasets) (1.3.2)\n",
            "Requirement already satisfied: attrs>=17.3.0 in /usr/local/lib/python3.11/dist-packages (from aiohttp->datasets) (25.3.0)\n",
            "Requirement already satisfied: frozenlist>=1.1.1 in /usr/local/lib/python3.11/dist-packages (from aiohttp->datasets) (1.6.0)\n",
            "Requirement already satisfied: multidict<7.0,>=4.5 in /usr/local/lib/python3.11/dist-packages (from aiohttp->datasets) (6.4.3)\n",
            "Requirement already satisfied: propcache>=0.2.0 in /usr/local/lib/python3.11/dist-packages (from aiohttp->datasets) (0.3.1)\n",
            "Requirement already satisfied: yarl<2.0,>=1.17.0 in /usr/local/lib/python3.11/dist-packages (from aiohttp->datasets) (1.20.0)\n",
            "Requirement already satisfied: contourpy>=1.0.1 in /usr/local/lib/python3.11/dist-packages (from matplotlib!=3.6.1,>=3.4->seaborn) (1.3.2)\n",
            "Requirement already satisfied: cycler>=0.10 in /usr/local/lib/python3.11/dist-packages (from matplotlib!=3.6.1,>=3.4->seaborn) (0.12.1)\n",
            "Requirement already satisfied: fonttools>=4.22.0 in /usr/local/lib/python3.11/dist-packages (from matplotlib!=3.6.1,>=3.4->seaborn) (4.58.0)\n",
            "Requirement already satisfied: kiwisolver>=1.3.1 in /usr/local/lib/python3.11/dist-packages (from matplotlib!=3.6.1,>=3.4->seaborn) (1.4.8)\n",
            "Requirement already satisfied: pyparsing>=2.3.1 in /usr/local/lib/python3.11/dist-packages (from matplotlib!=3.6.1,>=3.4->seaborn) (3.2.3)\n",
            "Requirement already satisfied: tzdata>=2022.7 in /usr/local/lib/python3.11/dist-packages (from pandas>=1.2->seaborn) (2025.2)\n",
            "Requirement already satisfied: six>=1.5 in /usr/local/lib/python3.11/dist-packages (from python-dateutil>=2.7.0->dateparser) (1.17.0)\n",
            "Requirement already satisfied: charset-normalizer<4,>=2 in /usr/local/lib/python3.11/dist-packages (from requests->transformers) (3.4.2)\n",
            "Requirement already satisfied: idna<4,>=2.5 in /usr/local/lib/python3.11/dist-packages (from requests->transformers) (3.10)\n",
            "Requirement already satisfied: urllib3<3,>=1.21.1 in /usr/local/lib/python3.11/dist-packages (from requests->transformers) (2.4.0)\n",
            "Requirement already satisfied: certifi>=2017.4.17 in /usr/local/lib/python3.11/dist-packages (from requests->transformers) (2025.4.26)\n",
            "Requirement already satisfied: networkx in /usr/local/lib/python3.11/dist-packages (from torch>=1.11.0->sentence_transformers) (3.4.2)\n",
            "Requirement already satisfied: jinja2 in /usr/local/lib/python3.11/dist-packages (from torch>=1.11.0->sentence_transformers) (3.1.6)\n",
            "Requirement already satisfied: nvidia-cuda-nvrtc-cu12==12.4.127 in /usr/local/lib/python3.11/dist-packages (from torch>=1.11.0->sentence_transformers) (12.4.127)\n",
            "Requirement already satisfied: nvidia-cuda-runtime-cu12==12.4.127 in /usr/local/lib/python3.11/dist-packages (from torch>=1.11.0->sentence_transformers) (12.4.127)\n",
            "Requirement already satisfied: nvidia-cuda-cupti-cu12==12.4.127 in /usr/local/lib/python3.11/dist-packages (from torch>=1.11.0->sentence_transformers) (12.4.127)\n",
            "Requirement already satisfied: nvidia-cudnn-cu12==9.1.0.70 in /usr/local/lib/python3.11/dist-packages (from torch>=1.11.0->sentence_transformers) (9.1.0.70)\n",
            "Requirement already satisfied: nvidia-cublas-cu12==12.4.5.8 in /usr/local/lib/python3.11/dist-packages (from torch>=1.11.0->sentence_transformers) (12.4.5.8)\n",
            "Requirement already satisfied: nvidia-cufft-cu12==11.2.1.3 in /usr/local/lib/python3.11/dist-packages (from torch>=1.11.0->sentence_transformers) (11.2.1.3)\n",
            "Requirement already satisfied: nvidia-curand-cu12==10.3.5.147 in /usr/local/lib/python3.11/dist-packages (from torch>=1.11.0->sentence_transformers) (10.3.5.147)\n",
            "Requirement already satisfied: nvidia-cusolver-cu12==11.6.1.9 in /usr/local/lib/python3.11/dist-packages (from torch>=1.11.0->sentence_transformers) (11.6.1.9)\n",
            "Requirement already satisfied: nvidia-cusparse-cu12==12.3.1.170 in /usr/local/lib/python3.11/dist-packages (from torch>=1.11.0->sentence_transformers) (12.3.1.170)\n",
            "Requirement already satisfied: nvidia-cusparselt-cu12==0.6.2 in /usr/local/lib/python3.11/dist-packages (from torch>=1.11.0->sentence_transformers) (0.6.2)\n",
            "Requirement already satisfied: nvidia-nccl-cu12==2.21.5 in /usr/local/lib/python3.11/dist-packages (from torch>=1.11.0->sentence_transformers) (2.21.5)\n",
            "Requirement already satisfied: nvidia-nvtx-cu12==12.4.127 in /usr/local/lib/python3.11/dist-packages (from torch>=1.11.0->sentence_transformers) (12.4.127)\n",
            "Requirement already satisfied: nvidia-nvjitlink-cu12==12.4.127 in /usr/local/lib/python3.11/dist-packages (from torch>=1.11.0->sentence_transformers) (12.4.127)\n",
            "Requirement already satisfied: triton==3.2.0 in /usr/local/lib/python3.11/dist-packages (from torch>=1.11.0->sentence_transformers) (3.2.0)\n",
            "Requirement already satisfied: sympy==1.13.1 in /usr/local/lib/python3.11/dist-packages (from torch>=1.11.0->sentence_transformers) (1.13.1)\n",
            "Requirement already satisfied: mpmath<1.4,>=1.1.0 in /usr/local/lib/python3.11/dist-packages (from sympy==1.13.1->torch>=1.11.0->sentence_transformers) (1.3.0)\n",
            "Requirement already satisfied: joblib>=1.2.0 in /usr/local/lib/python3.11/dist-packages (from scikit-learn->sentence_transformers) (1.5.0)\n",
            "Requirement already satisfied: threadpoolctl>=3.1.0 in /usr/local/lib/python3.11/dist-packages (from scikit-learn->sentence_transformers) (3.6.0)\n",
            "Requirement already satisfied: MarkupSafe>=2.0 in /usr/local/lib/python3.11/dist-packages (from jinja2->torch>=1.11.0->sentence_transformers) (3.0.2)\n"
          ]
        }
      ],
      "source": [
        "!pip install seaborn more_itertools lingtrain-aligner==0.9.4 dateparser sentence_transformers sentencepiece transformers razdel datasets"
      ]
    },
    {
      "cell_type": "code",
      "source": [
        "!mkdir ckt"
      ],
      "metadata": {
        "id": "OLQcQwj3VE5Q"
      },
      "execution_count": null,
      "outputs": []
    },
    {
      "cell_type": "code",
      "execution_count": null,
      "metadata": {
        "id": "b88db916-e963-43d6-914f-1afcfc28ead9"
      },
      "outputs": [],
      "source": [
        "import seaborn as sns\n",
        "import logging\n",
        "from warnings import simplefilter\n",
        "import sys\n",
        "import os\n",
        "\n",
        "from sentence_transformers import SentenceTransformer\n",
        "from lingtrain_aligner import preprocessor, splitter, aligner, resolver, reader, helper, vis_helper, metrics\n",
        "\n",
        "sns.set()"
      ]
    },
    {
      "cell_type": "code",
      "execution_count": null,
      "metadata": {
        "id": "fb6d0147-0c84-49e6-ae48-131cd00980ab"
      },
      "outputs": [],
      "source": [
        "# Configure logging\n",
        "for handler in logging.root.handlers[:]:\n",
        "    logging.root.removeHandler(handler)\n",
        "\n",
        "os.environ[\"TF_CPP_MIN_LOG_LEVEL\"] = \"3\"\n",
        "simplefilter(action=\"ignore\", category=FutureWarning)\n",
        "logging.basicConfig(\n",
        "    level=logging.INFO,\n",
        "    format=\"%(asctime)s [%(levelname)s] - %(process)d: %(message)s\",\n",
        "    datefmt=\"%d-%b-%y %H:%M:%S\",\n",
        "    handlers=[\n",
        "        logging.StreamHandler(sys.stdout),\n",
        "        logging.FileHandler(\"_aligner.log\", mode=\"a\"),\n",
        "    ],\n",
        ")\n",
        "logging.getLogger(\"matplotlib.font_manager\").disabled = True\n",
        "logger = logging.getLogger(__name__)\n",
        "logger.setLevel(logging.WARNING)  # Disabling INFO level logging"
      ]
    },
    {
      "cell_type": "markdown",
      "metadata": {
        "id": "35146743-acbf-4c3e-b5ba-0728302562dc"
      },
      "source": [
        "## **Loading Fine-Tuned Model from Hugging Face**"
      ]
    },
    {
      "cell_type": "code",
      "execution_count": null,
      "metadata": {
        "id": "05ee20b0-6ef6-462a-9358-a10d4ec9d070"
      },
      "outputs": [],
      "source": [
        "model = SentenceTransformer(\"HSE-Chukchi-NLP/LaBSE-russian-chukchi\")"
      ]
    },
    {
      "cell_type": "markdown",
      "source": [
        "### **Alternatively Load Fine-Tuned Model Locally**"
      ],
      "metadata": {
        "id": "DnQdOMBD30tB"
      }
    },
    {
      "cell_type": "code",
      "source": [
        "# !unzip ckt_labse_not_prepared_dataset.zip"
      ],
      "metadata": {
        "colab": {
          "base_uri": "https://localhost:8080/"
        },
        "id": "zc8d8e0TZtqI",
        "outputId": "67129ccd-1c7a-42c3-81a9-6f39126b1f27"
      },
      "execution_count": null,
      "outputs": [
        {
          "output_type": "stream",
          "name": "stdout",
          "text": [
            "Archive:  ckt_labse_not_prepared_dataset.zip\n",
            "   creating: ckt_labse_not_prepared_dataset/\n",
            "  inflating: ckt_labse_not_prepared_dataset/model.safetensors  \n",
            "  inflating: ckt_labse_not_prepared_dataset/vocab.txt  \n",
            "  inflating: ckt_labse_not_prepared_dataset/sentence_bert_config.json  \n",
            "  inflating: ckt_labse_not_prepared_dataset/modules.json  \n",
            "   creating: ckt_labse_not_prepared_dataset/3_Normalize/\n",
            "   creating: ckt_labse_not_prepared_dataset/2_Dense/\n",
            "  inflating: ckt_labse_not_prepared_dataset/2_Dense/model.safetensors  \n",
            "  inflating: ckt_labse_not_prepared_dataset/2_Dense/config.json  \n",
            "  inflating: ckt_labse_not_prepared_dataset/tokenizer_config.json  \n",
            "  inflating: ckt_labse_not_prepared_dataset/config.json  \n",
            "   creating: ckt_labse_not_prepared_dataset/1_Pooling/\n",
            "  inflating: ckt_labse_not_prepared_dataset/1_Pooling/config.json  \n",
            "  inflating: ckt_labse_not_prepared_dataset/config_sentence_transformers.json  \n",
            "  inflating: ckt_labse_not_prepared_dataset/tokenizer.json  \n",
            "  inflating: ckt_labse_not_prepared_dataset/README.md  \n",
            "  inflating: ckt_labse_not_prepared_dataset/special_tokens_map.json  \n"
          ]
        }
      ]
    },
    {
      "cell_type": "code",
      "source": [
        "# model = SentenceTransformer(\"ckt_labse_final_dataset\")"
      ],
      "metadata": {
        "colab": {
          "base_uri": "https://localhost:8080/"
        },
        "id": "j_CY1C_j3GOo",
        "outputId": "dc2a27d5-2dd9-4a4b-aaf2-8048f3a051f6"
      },
      "execution_count": null,
      "outputs": [
        {
          "output_type": "stream",
          "name": "stdout",
          "text": [
            "23-May-25 10:25:38 [INFO] - 220: Use pytorch device_name: cpu\n",
            "23-May-25 10:25:38 [INFO] - 220: Load pretrained SentenceTransformer: ckt_labse_not_prepared_dataset\n"
          ]
        },
        {
          "output_type": "stream",
          "name": "stderr",
          "text": [
            "/usr/local/lib/python3.11/dist-packages/huggingface_hub/utils/_auth.py:94: UserWarning: \n",
            "The secret `HF_TOKEN` does not exist in your Colab secrets.\n",
            "To authenticate with the Hugging Face Hub, create a token in your settings tab (https://huggingface.co/settings/tokens), set it as secret in your Google Colab and restart your session.\n",
            "You will be able to reuse this secret in all of your notebooks.\n",
            "Please note that authentication is recommended but still optional to access public models or datasets.\n",
            "  warnings.warn(\n"
          ]
        }
      ]
    },
    {
      "cell_type": "markdown",
      "metadata": {
        "id": "e99efc1b-282d-4600-9de0-cde825114149"
      },
      "source": [
        "## **Preparing Texts**"
      ]
    },
    {
      "cell_type": "markdown",
      "source": [
        "Chukchi and Russian texts should be in a single file:\n",
        "- Chukchi text first\n",
        "- Followed by Russian text\n",
        "- Separated by \"ru:\" marker"
      ],
      "metadata": {
        "id": "cNaYnyp74IZ7"
      }
    },
    {
      "cell_type": "code",
      "source": [
        "input_file = \"/content/chukot_article_7937.txt\"\n",
        "\n",
        "def read_combined_file(file_path, separator='ru:'):\n",
        "\n",
        "    with open(file_path, \"r\", encoding=\"utf8\") as f:\n",
        "        lines = f.readlines()\n",
        "\n",
        "    text1 = []\n",
        "    text2 = []\n",
        "    current_text = text1\n",
        "\n",
        "    for line in lines:\n",
        "        line = line.strip()\n",
        "        if line == separator:\n",
        "            current_text = text2\n",
        "            continue\n",
        "        if line:\n",
        "            current_text.append(line)\n",
        "\n",
        "    return text1, text2\n",
        "\n",
        "text1, text2 = read_combined_file(input_file)"
      ],
      "metadata": {
        "id": "dOFnSLxpb_lV"
      },
      "execution_count": null,
      "outputs": []
    },
    {
      "cell_type": "markdown",
      "metadata": {
        "id": "fd379187-1fe1-4286-8362-99417f38aad6"
      },
      "source": [
        "### **Marking Paragraphs**"
      ]
    },
    {
      "cell_type": "code",
      "execution_count": null,
      "metadata": {
        "colab": {
          "base_uri": "https://localhost:8080/"
        },
        "id": "cc496746-ce36-4b54-9788-893df51b94da",
        "outputId": "b598acd3-c870-4af6-ad33-1e572a74e16f"
      },
      "outputs": [
        {
          "output_type": "stream",
          "name": "stdout",
          "text": [
            "\n",
            "---------text1\n",
            "\n",
            "\n",
            "---------text2\n",
            "\n"
          ]
        }
      ],
      "source": [
        "config_1 = {\n",
        "    \"type_1\": preprocessor.PASS,\n",
        "    \"type_2\": preprocessor.PASS,\n",
        "    \"roman\": preprocessor.PASS,\n",
        "    \"arabic\": preprocessor.PASS,\n",
        "    \"date\": preprocessor.PASS,\n",
        "    \"misc\": preprocessor.DIVIDER,\n",
        "}\n",
        "config_2 = {\n",
        "    \"type_1\": preprocessor.PASS,\n",
        "    \"type_2\": preprocessor.PASS,\n",
        "    \"roman\": preprocessor.PASS,\n",
        "    \"arabic\": preprocessor.PASS,\n",
        "    \"date\": preprocessor.PASS,\n",
        "    \"misc\": preprocessor.DIVIDER,\n",
        "}\n",
        "\n",
        "print(\"\\n---------text1\\n\")\n",
        "lines1_prepared = preprocessor.mark_headings(text1, config_1)\n",
        "print(\"\\n---------text2\\n\")\n",
        "lines2_prepared = preprocessor.mark_headings(text2, config_2)\n",
        "\n",
        "lines1_prepared = preprocessor.mark_paragraphs(lines1_prepared)\n",
        "lines2_prepared = preprocessor.mark_paragraphs(lines2_prepared)"
      ]
    },
    {
      "cell_type": "code",
      "execution_count": null,
      "metadata": {
        "colab": {
          "base_uri": "https://localhost:8080/"
        },
        "id": "a0742305-002d-4003-82b9-0429b133c854",
        "outputId": "1111d1a6-b063-4851-daeb-8603b35db42c"
      },
      "outputs": [
        {
          "output_type": "execute_result",
          "data": {
            "text/plain": [
              "['ТААРОҢГЫРГЫН, ЭЛЁЛЬЫЧЕТГЫРГЫН ЫНКЪАМ ҢЭЭ’ВИК%%%%%.',\n",
              " 'Вера ТЭВЛЯНТО, урэмигчирэтыльын қорагынрэтгыргык, Эквыыннот%%%%%.',\n",
              " 'Талпыӈӈок февральининик март эмнуӈыльыт нытэнмавӄэнат Тэркыӄаматынвэты, ыьтри ныялгытӄэнат торавээнвэты, торралӄаӈынвык нытаароӈӄэнат, ялгытыркыт торавээнвэты, торралӄаӈынвык таароӈыркыт, рагролмын гытамо нэлгыркын миӈкриым эргатык рэмкын льаляӈэтынвэты ратэнмавӈыт%%%%%.',\n",
              " 'Еп рэювкы вулӄытвик ӈавэтынва етьа рытчыркынин рэнтыткоолӄылтэ нотатаароӈкэн льаляӈэтынвэты. Ройыръэн эвиръыт рытэнмавыркынэнат, инъэ таӈгаглыйпы. Етьа рытчыркынинэт уттыт увинтэткин ынкъам гытамэты рытрилыркынинэт этролклыӄылтэ. Ы’ттьыт омрыквотыркынэнат аръасэнтыкэгты. Ӄэлёӄ-ым гытамо нылгыӄинэт, нэкэм таароӈыӈӈок. гыгэру ныльгыӄинэт ымы мэйӈыӄулильэтык. Ынкъам нывириӈкинэт майӈывэтгавыльыт. Кимылтэтыльыт экэвку нылгыӄинэт, нэкэм ӈэвъэнйыръыт. Инъэ ривыльэ рыпкирэтыркынин ӈэлвыл, лыгэнэвыт ӄутти ӄлявылтэ гырыткугилиркыт%%%%%.',\n",
              " 'Эвыт тангиянъё кынъоёлӄыл ӄораӈы эвытрыкэ вак, э’ми ӄаачыкогты ныргэлӄин, - лыгэнэвыт ӈавэтын нъэйӈэльэтӄин. Ръэнут винвынъэӄэрэвын, иа’м тыӈэво лыӈыркын, эвытлым винвъутык титэ. Ыныкит пэлле аймэтъёлӄыл ныкынъуӄин, ынпыначгыт ныринӈычьэтӄинэт. Ымылыгэн аманъята нытчыӄин%%%%%.',\n",
              " 'Тиркыӄэмэтык ачгыта чама тымӈалголяӄ ныръилеӄинэт. Нутрии ымӄэтпыльата нитӄинэт ымы ынпыначгыт, ымы мыӄыльыт. Майӈыӄылявылтэ ныгагчавӄэнат корагыркэнвэты, ръэлятэнмавыркыт. Чымӄык а’ачегъянвыт рачвыӈыркыт, пэӈкорачвыӈыркыт. Тэӈычьу нылгыӄин элёльычетгыргын. Ӈутку ымы мыӄыльыт гэчевкы нытваӄэнат нэкэм эпэрык рээн%%%%%.',\n",
              " 'Чьэчеӈкы нывириӈӄинэт рыровэты рачвыӈыльыт, энмэн рыӄывэтоӈыт, аӈъачгыргын вээнток%%%%%.',\n",
              " 'Мыгрэмкыльэтык гэчевкы рэмкын ныльувылгыӄинэт. Ынпыначгыт, ынпыӈэвэ гэтэнгиеӈэ ӈэвычӄэтти ынкам эккэт гэныгивэтэ. Нээккэльыт-ым гарыглята - вэчьым ӈээккэт нэтэныггивӈыркынэт. Энмэч-ым ӄутти гаӈавынрагтата%%%%%.',\n",
              " 'Лымӈэ%%%%%.',\n",
              " 'Тэеӈкы янот – ым ялгытыӈок ынпыначгыт чимгъуркыт,парыркыт, нэныгивэвыркын льаляӈэтынвылӄылтэ. Элгулеӄ-ым лымэвыт ильуткуркын, эвыт вак ярартамэнӈыльын. Ыргынан нэльуркынэт лымкэты вальыт ванвыт льаляӈэтынвыкэн%%%%%.']"
            ]
          },
          "metadata": {},
          "execution_count": 731
        }
      ],
      "source": [
        "lines1_prepared[:10]"
      ]
    },
    {
      "cell_type": "markdown",
      "metadata": {
        "id": "e674cf97-c300-43d5-8479-74d78bbda977"
      },
      "source": [
        "### **Creating Aligned Database**"
      ]
    },
    {
      "cell_type": "code",
      "execution_count": null,
      "metadata": {
        "id": "2011006b-008a-4a1e-a631-cb336e6da889"
      },
      "outputs": [],
      "source": [
        "lang_from = \"ckt\"\n",
        "lang_to = \"ru\"\n",
        "\n",
        "db_path = \"3_extract_pairs.db\""
      ]
    },
    {
      "cell_type": "code",
      "execution_count": null,
      "metadata": {
        "colab": {
          "base_uri": "https://localhost:8080/"
        },
        "id": "c8339961-a1ec-45c9-9c23-e0f7a3a9f3bf",
        "outputId": "c4f71967-098f-4e38-ecbc-24e7b4829c5e"
      },
      "outputs": [
        {
          "output_type": "stream",
          "name": "stdout",
          "text": [
            "0 - ТААРОҢГЫРГЫН, ЭЛЁЛЬЫЧЕТГЫРГЫН ЫНКЪАМ ҢЭЭ’ВИК%%%%%.\n",
            "1 - Вера ТЭВЛЯНТО, урэмигчирэтыльын қорагынрэтгыргык, Эквыыннот%%%%%.\n",
            "2 - Талпыӈӈок февральининик март эмнуӈыльыт нытэнмавӄэнат Тэркыӄаматынвэты, ыьтри ныялгытӄэнат торавээнвэты, торралӄаӈынвык нытаароӈӄэнат, ялгытыркыт торавээнвэты, торралӄаӈынвык таароӈыркыт, рагролмын гытамо нэлгыркын миӈкриым эргатык рэмкын льаляӈэтынвэты ратэнмавӈыт%%%%%.\n",
            "3 - Еп рэювкы вулӄытвик ӈавэтынва етьа рытчыркынин рэнтыткоолӄылтэ нотатаароӈкэн льаляӈэтынвэты.\n",
            "4 - Ройыръэн эвиръыт рытэнмавыркынэнат, инъэ таӈгаглыйпы.\n",
            "5 - Етьа рытчыркынинэт уттыт увинтэткин ынкъам гытамэты рытрилыркынинэт этролклыӄылтэ.\n",
            "6 - Ы’ттьыт омрыквотыркынэнат аръасэнтыкэгты.\n",
            "7 - Ӄэлёӄ-ым гытамо нылгыӄинэт, нэкэм таароӈыӈӈок. гыгэру ныльгыӄинэт ымы мэйӈыӄулильэтык.\n",
            "8 - Ынкъам нывириӈкинэт майӈывэтгавыльыт.\n",
            "9 - Кимылтэтыльыт экэвку нылгыӄинэт, нэкэм ӈэвъэнйыръыт.\n",
            "\n",
            "\n",
            "0 - ОБРЯД, СОСТЯЗАНИЯ И СВАТОВСТВО%%%%%.\n",
            "1 - Вера ТЕВЛЯНТО, ветеран оленеводства, городской округ Эгвекинот%%%%%.\n",
            "2 - В конце февраля – начале марта по всей тундре оленные люди готовятся к празднованию встречи Солнца.\n",
            "3 - Кочуют на новые, непротоптанные пастбища, где олени смогут спокойно пастись%%%%%.\n",
            "4 - В дни проведения обряда оленеводы по-особенному относятся к стаду.\n",
            "5 - Они стараются лишний раз не тревожить отдыхающих оленей, громко не разговаривают.\n",
            "6 - В день окончания кочёвки, после установки яранги, особая миссия возлагается на хозяйку, которая после ужина начинает готовиться к наступлению утра.\n",
            "7 - Ей необходимо подготовить торжественную одежду и торбаса для семьи, вытащить из запасника сушёное мясо – кыкватъол, нарезать его на мелкие кусочки для обряда и угощения гостей%%%%%.\n",
            "8 - Во время самого обряда, который начинается рано утром, все собаки должны быть привязаны сзади яранги.\n",
            "9 - До прихода стада хозяйка должна всё приготовить: раздолбить лёд, нарубить дрова, приготовить вычищенную посуду, накормить людей – словом, у женщины много-много мелких, но нужных хлопот%%%%%.\n",
            "\n",
            "---------------------------------\n",
            "\n",
            "\n",
            "len from: 30\n",
            "len to: 27\n"
          ]
        }
      ],
      "source": [
        "splitted_from = splitter.split_by_sentences_wrapper(lines1_prepared, lang_from)\n",
        "splitted_to = splitter.split_by_sentences_wrapper(lines2_prepared, lang_to)\n",
        "\n",
        "for i, s in enumerate(splitted_from[0:10]):\n",
        "    print(i, \"-\", s)\n",
        "print(\"\\n\")\n",
        "for i, s in enumerate(splitted_to[0:10]):\n",
        "    print(i, \"-\", s)\n",
        "\n",
        "print(\"\\n---------------------------------\\n\\n\")\n",
        "print(\"len from:\", len(splitted_from))\n",
        "print(\"len to:\", len(splitted_to))"
      ]
    },
    {
      "cell_type": "code",
      "source": [
        "import os\n",
        "if os.path.isfile(db_path):\n",
        "    os.remove(db_path)"
      ],
      "metadata": {
        "id": "a3jUBab8wy76"
      },
      "execution_count": null,
      "outputs": []
    },
    {
      "cell_type": "code",
      "execution_count": null,
      "metadata": {
        "colab": {
          "base_uri": "https://localhost:8080/"
        },
        "id": "8ccfcc2f-71ff-48c6-9808-72d239b2224e",
        "outputId": "faa59767-b954-40ef-d07e-452d142a19a2"
      },
      "outputs": [
        {
          "output_type": "stream",
          "name": "stdout",
          "text": [
            "23-May-25 12:35:43 [INFO] - 220: Initializing database 3_extract_pairs.db\n"
          ]
        }
      ],
      "source": [
        "if os.path.isfile(db_path):\n",
        "    os.unlink(db_path)\n",
        "\n",
        "aligner.fill_db(db_path, lang_from, lang_to, splitted_from, splitted_to)"
      ]
    },
    {
      "cell_type": "markdown",
      "source": [
        "### **Segmentation**"
      ],
      "metadata": {
        "id": "OGMnduRo5HVm"
      }
    },
    {
      "cell_type": "code",
      "execution_count": null,
      "metadata": {
        "colab": {
          "base_uri": "https://localhost:8080/"
        },
        "id": "124747f0-66ff-44ff-881d-6ec550c95762",
        "outputId": "2a5b869f-994c-4281-85ee-12135af0a641"
      },
      "outputs": [
        {
          "output_type": "execute_result",
          "data": {
            "text/plain": [
              "[[0]]"
            ]
          },
          "metadata": {},
          "execution_count": 736
        }
      ],
      "source": [
        "left_segments, right_segments = aligner.calculate_segments(\n",
        "    db_path, segmentation_marks=[preprocessor.H2]\n",
        ")\n",
        "\n",
        "segments_structure = aligner.get_batch_intersected_for_segments_list(\n",
        "    db_path, left_segments=left_segments, right_segments=right_segments, batch_size=200\n",
        ")\n",
        "\n",
        "segments_structure"
      ]
    },
    {
      "cell_type": "code",
      "execution_count": null,
      "metadata": {
        "colab": {
          "base_uri": "https://localhost:8080/"
        },
        "id": "c02805aa-9184-497d-bd2b-3167c2f6dfb9",
        "outputId": "eb4d705f-c02a-49d6-9a93-a7b00586fbb1"
      },
      "outputs": [
        {
          "output_type": "stream",
          "name": "stdout",
          "text": [
            "Aligning without segments.\n",
            "tasks amount: 1\n",
            "batch: 0 (0)\n",
            "23-May-25 12:35:44 [INFO] - 220: Batch 0. Calculating vectors.\n",
            "23-May-25 12:35:55 [WARNING] - 220: can not fetch index db\n"
          ]
        }
      ],
      "source": [
        "# use_segments = True\n",
        "use_segments = False\n",
        "\n",
        "batch_ids = range(0, 20)\n",
        "\n",
        "aligner.align_db(\n",
        "    db_path,\n",
        "    model_name=\"_\",\n",
        "    batch_size=200,\n",
        "    window=40,\n",
        "    batch_ids=batch_ids,\n",
        "    save_pic=False,\n",
        "    embed_batch_size=100,\n",
        "    normalize_embeddings=True,\n",
        "    show_progress_bar=False,\n",
        "    shift=0,\n",
        "    model=model,\n",
        "    use_segments=use_segments,\n",
        "    segmentation_marks=[preprocessor.H2],\n",
        ")"
      ]
    },
    {
      "cell_type": "code",
      "execution_count": null,
      "metadata": {
        "colab": {
          "base_uri": "https://localhost:8080/"
        },
        "id": "9df5b541-1d83-4b7f-b81a-6034b71ffed8",
        "outputId": "c597b411-1f8e-49ff-aa58-ad84c204b817"
      },
      "outputs": [
        {
          "output_type": "stream",
          "name": "stdout",
          "text": [
            "score 1: 0.1333333333333333\n"
          ]
        }
      ],
      "source": [
        "print(\"score 1:\", metrics.chain_score(db_path))"
      ]
    },
    {
      "cell_type": "code",
      "execution_count": null,
      "metadata": {
        "colab": {
          "base_uri": "https://localhost:8080/",
          "height": 499
        },
        "id": "9c67f576-41e7-46ce-bc74-de793f266fac",
        "outputId": "a4d2bf0c-1477-4ef7-d969-7a1d907bae59"
      },
      "outputs": [
        {
          "output_type": "display_data",
          "data": {
            "text/plain": [
              "<Figure size 600x600 with 1 Axes>"
            ],
            "image/png": "[encoded data removed]"
          },
          "metadata": {}
        }
      ],
      "source": [
        "vis_helper.visualize_alignment_by_db(\n",
        "    db_path,\n",
        "    output_path=\"alignment_vis.png\",\n",
        "    # batch_size=0 if use_segments else 1000,\n",
        "    batch_size=400,\n",
        "    size=(600, 600),\n",
        "    lang_name_from=lang_from,\n",
        "    lang_name_to=lang_to,\n",
        "    batch_ids=batch_ids,\n",
        "    plt_show=True,\n",
        ")"
      ]
    },
    {
      "cell_type": "markdown",
      "metadata": {
        "id": "e6d0563d-8434-4b2c-9662-e917f71b88bc"
      },
      "source": [
        "## **Resolving Conflicts**"
      ]
    },
    {
      "cell_type": "code",
      "execution_count": null,
      "metadata": {
        "colab": {
          "base_uri": "https://localhost:8080/"
        },
        "id": "402e2cf2-37d4-452c-a1c9-4b318405b2d6",
        "outputId": "8d591fdb-df5f-4c31-ea7b-18473c0e329c"
      },
      "outputs": [
        {
          "output_type": "stream",
          "name": "stdout",
          "text": [
            "conflicts to solve: 1\n",
            "total conflicts: 2\n",
            "('4:4', 1)\n",
            "('10:10', 1)\n"
          ]
        },
        {
          "output_type": "stream",
          "name": "stderr",
          "text": [
            "100%|██████████| 1/1 [00:01<00:00,  1.16s/it]\n"
          ]
        },
        {
          "output_type": "stream",
          "name": "stdout",
          "text": [
            "--------------------------------\n",
            "resolved. step 1\n",
            "score 1: 0.23333333333333328\n",
            "score 2: 0.6166666666666667 \n",
            "------------------------------\n",
            "conflicts to solve: 0\n",
            "total conflicts: 0\n"
          ]
        },
        {
          "output_type": "stream",
          "name": "stderr",
          "text": [
            "0it [00:00, ?it/s]\n"
          ]
        },
        {
          "output_type": "stream",
          "name": "stdout",
          "text": [
            "--------------------------------\n",
            "resolved. step 2\n",
            "score 1: 0.23333333333333328\n",
            "score 2: 0.6166666666666667 \n",
            "------------------------------\n",
            "conflicts to solve: 1\n",
            "total conflicts: 1\n",
            "('10:10', 1)\n"
          ]
        },
        {
          "output_type": "stream",
          "name": "stderr",
          "text": [
            "100%|██████████| 1/1 [00:04<00:00,  4.30s/it]"
          ]
        },
        {
          "output_type": "stream",
          "name": "stdout",
          "text": [
            "calculated --- 5.477943420410156 seconds ---\n"
          ]
        },
        {
          "output_type": "stream",
          "name": "stderr",
          "text": [
            "\n"
          ]
        }
      ],
      "source": [
        "import time\n",
        "start_time = time.time()\n",
        "\n",
        "steps = 3\n",
        "batch_id = -1\n",
        "for i in range(steps):\n",
        "    conflicts, rest = resolver.get_all_conflicts(db_path, min_chain_length=2+i, max_conflicts_len=6*(i+1), batch_id=batch_id)\n",
        "    resolver.get_statistics(conflicts)\n",
        "    resolver.get_statistics(rest)\n",
        "\n",
        "    resolver.resolve_all_conflicts(db_path, conflicts, model_name=\"_\", show_logs=False, model=model)\n",
        "\n",
        "    print(\"--------------------------------\\nresolved. step\", i+1)\n",
        "    print(\"score 1:\", metrics.chain_score(db_path))\n",
        "    print(\"score 2:\", metrics.chain_score(db_path, mode=\"both\"),\"\\n------------------------------\")\n",
        "\n",
        "    if len(rest) == 0:\n",
        "        break\n",
        "\n",
        "conflicts, rest = resolver.get_all_conflicts(db_path, min_chain_length=2, max_conflicts_len=26, batch_id=batch_id)\n",
        "resolver.get_statistics(conflicts)\n",
        "resolver.get_statistics(rest)\n",
        "\n",
        "resolver.resolve_all_conflicts(db_path, conflicts, model_name=\"_\", show_logs=False, model=model)\n",
        "\n",
        "print(\"calculated --- %s seconds ---\" % (time.time() - start_time))"
      ]
    },
    {
      "cell_type": "markdown",
      "metadata": {
        "id": "a0491ae6-98f1-4ab7-9247-e11584771d35"
      },
      "source": [
        "## **Resolving Conflicts (Strategy 2)**"
      ]
    },
    {
      "cell_type": "code",
      "execution_count": null,
      "metadata": {
        "colab": {
          "base_uri": "https://localhost:8080/"
        },
        "id": "46174b30-a77b-44f2-a3ec-487a9c713a41",
        "outputId": "1906053c-6873-4466-b87b-351fd7d62e6f"
      },
      "outputs": [
        {
          "output_type": "stream",
          "name": "stdout",
          "text": [
            "conflicts to solve: 1\n",
            "total conflicts: 1\n",
            "23-May-25 12:36:01 [INFO] - 220: Trying to decrease a number of unused conflicts. Fixing negative lenghts.\n",
            "23-May-25 12:36:01 [INFO] - 220: Found 0 conflicts with negative length.\n",
            "conflicts to solve: 1\n",
            "total conflicts: 1\n",
            "23-May-25 12:36:01 [INFO] - 220: 0 was fixed.\n"
          ]
        }
      ],
      "source": [
        "min_chain_length = 2\n",
        "max_conflicts_len = 26\n",
        "\n",
        "while True:\n",
        "    conflicts, rest_conflicts = resolver.get_all_conflicts(\n",
        "                    db_path,\n",
        "                    min_chain_length=min_chain_length,\n",
        "                    max_conflicts_len=max_conflicts_len,\n",
        "                    batch_id=batch_id,\n",
        "                    handle_start=True,\n",
        "                    handle_finish=True,\n",
        "                )\n",
        "    fixed_conflicts = resolver.correct_conflicts(\n",
        "                    db_path,\n",
        "                    rest_conflicts,\n",
        "                    batch_id=batch_id,\n",
        "                    min_chain_length=min_chain_length,\n",
        "                    max_conflicts_len=max_conflicts_len,\n",
        "                    handle_start=True,\n",
        "                    handle_finish=True,\n",
        "                )\n",
        "    if not fixed_conflicts:\n",
        "        break\n",
        "\n",
        "    resolver.resolve_all_conflicts(\n",
        "                    db_path,\n",
        "                    conflicts,\n",
        "                    model_name=\"_\",\n",
        "                    show_logs=False,\n",
        "                    model=model\n",
        "                )\n"
      ]
    },
    {
      "cell_type": "code",
      "execution_count": null,
      "metadata": {
        "colab": {
          "base_uri": "https://localhost:8080/",
          "height": 499
        },
        "id": "6fa5608f-43f8-4635-87dd-b79d3d868264",
        "outputId": "6f622407-5677-435a-a137-b7514fe47b02"
      },
      "outputs": [
        {
          "output_type": "display_data",
          "data": {
            "text/plain": [
              "<Figure size 600x600 with 1 Axes>"
            ],
            "image/png": "[encoded data removed]"
          },
          "metadata": {}
        }
      ],
      "source": [
        "vis_helper.visualize_alignment_by_db(db_path,\n",
        "            output_path=\"alignment_vis.png\",\n",
        "            batch_size=600,\n",
        "            size=(600,600),\n",
        "            lang_name_from=lang_from,\n",
        "            lang_name_to=lang_to,\n",
        "            # batch_ids=batch_ids,\n",
        "            plt_show=True)"
      ]
    },
    {
      "cell_type": "code",
      "execution_count": null,
      "metadata": {
        "colab": {
          "base_uri": "https://localhost:8080/"
        },
        "id": "19307a91-dce8-4d34-b5ec-73b6d4ad0c74",
        "outputId": "5194885c-9aaf-4e73-9f10-43b00803c144"
      },
      "outputs": [
        {
          "output_type": "stream",
          "name": "stdout",
          "text": [
            "score 1: 0.5333333333333333\n"
          ]
        }
      ],
      "source": [
        "print(\"score 1:\", metrics.chain_score(db_path))"
      ]
    },
    {
      "cell_type": "markdown",
      "metadata": {
        "id": "67067689-1de1-4315-8ed8-b63519615795"
      },
      "source": [
        "## **Extracting Pairs**"
      ]
    },
    {
      "cell_type": "code",
      "execution_count": null,
      "metadata": {
        "id": "efcfff67-b5e2-4684-8ba8-35660f20bdba"
      },
      "outputs": [],
      "source": [
        "pairs = reader.get_aligned_pair_chains(db_path, min_len=3)"
      ]
    },
    {
      "cell_type": "code",
      "execution_count": null,
      "metadata": {
        "colab": {
          "base_uri": "https://localhost:8080/"
        },
        "id": "5746d7a9-0f22-4754-8436-7430c39d876e",
        "outputId": "9e927576-2d8a-429d-ef9f-43c51236954a"
      },
      "outputs": [
        {
          "output_type": "execute_result",
          "data": {
            "text/plain": [
              "16"
            ]
          },
          "metadata": {},
          "execution_count": 745
        }
      ],
      "source": [
        "len(pairs)"
      ]
    },
    {
      "cell_type": "markdown",
      "metadata": {
        "id": "19b58cbd-9c03-41f5-b59b-3833347069df"
      },
      "source": [
        "Skipping pairs with significant length differences"
      ]
    },
    {
      "cell_type": "code",
      "execution_count": null,
      "metadata": {
        "colab": {
          "base_uri": "https://localhost:8080/"
        },
        "id": "8a1c25c4-e953-449c-8282-7d204e45deb7",
        "outputId": "0bb9a9df-f5e0-409c-f8fc-6472cc3d938a"
      },
      "outputs": [
        {
          "output_type": "execute_result",
          "data": {
            "text/plain": [
              "(10,\n",
              " [['ТААРОҢГЫРГЫН, ЭЛЁЛЬЫЧЕТГЫРГЫН ЫНКЪАМ ҢЭЭ’ВИК.',\n",
              "   'ОБРЯД, СОСТЯЗАНИЯ И СВАТОВСТВО.'],\n",
              "  ['Вера ТЭВЛЯНТО, урэмигчирэтыльын қорагынрэтгыргык, Эквыыннот.',\n",
              "   'Вера ТЕВЛЯНТО, ветеран оленеводства, городской округ Эгвекинот.'],\n",
              "  ['Еп рэювкы вулӄытвик ӈавэтынва етьа рытчыркынин рэнтыткоолӄылтэ нотатаароӈкэн льаляӈэтынвэты.',\n",
              "   'Кочуют на новые, непротоптанные пастбища, где олени смогут спокойно пастись.'],\n",
              "  ['Ройыръэн эвиръыт рытэнмавыркынэнат, инъэ таӈгаглыйпы.',\n",
              "   'В дни проведения обряда оленеводы по-особенному относятся к стаду.'],\n",
              "  ['Етьа рытчыркынинэт уттыт увинтэткин ынкъам гытамэты рытрилыркынинэт этролклыӄылтэ.',\n",
              "   'Они стараются лишний раз не тревожить отдыхающих оленей, громко не разговаривают.'],\n",
              "  ['Инъэ ривыльэ рыпкирэтыркынин ӈэлвыл, лыгэнэвыт ӄутти ӄлявылтэ гырыткугилиркыт.',\n",
              "   'Утром ночной дежурный пригоняет стадо, другие мужчины принимают его и выбирают жертвенного оленя, намеченного заранее.'],\n",
              "  ['Эвыт тангиянъё кынъоёлӄыл ӄораӈы эвытрыкэ вак, э’ми ӄаачыкогты ныргэлӄин, - лыгэнэвыт ӈавэтын нъэйӈэльэтӄин.',\n",
              "   'Если этот олень не попадает в поле зрения – прячется среди сородичей, подозрения падают на хозяйку: значит, она совершила какую-то погрешность при подготовке к обряду и утаила это.'],\n",
              "  ['Ръэнут винвынъэӄэрэвын, иа’м тыӈэво лыӈыркын, эвытлым винвъутык титэ.',\n",
              "   'Если же жертвенное животное без помех поймали и забили – хозяйке большой плюс.'],\n",
              "  ['Ымылыгэн аманъята нытчыӄин.', 'Тут начинается самое интересное.'],\n",
              "  ['Тиркыӄэмэтык ачгыта чама тымӈалголяӄ ныръилеӄинэт.',\n",
              "   'В состязании охотно принимают участие и стар и млад.']])"
            ]
          },
          "metadata": {},
          "execution_count": 746
        }
      ],
      "source": [
        "res = []\n",
        "\n",
        "for p in pairs:\n",
        "    if len(p[0])/len(p[1]) > 1.8 or len(p[0])/len(p[1]) < 0.6:\n",
        "        continue\n",
        "    res.append(p)\n",
        "\n",
        "len(res), res"
      ]
    },
    {
      "cell_type": "markdown",
      "metadata": {
        "id": "3088d8ec-d6ce-4b03-af75-371ee03ccc36"
      },
      "source": [
        "## **Saving Results**"
      ]
    },
    {
      "cell_type": "code",
      "source": [
        "import pandas as pd\n",
        "\n",
        "# Saving to CSV\n",
        "df = pd.DataFrame(res, columns=[\"ckt\", \"ru\"])"
      ],
      "metadata": {
        "id": "dVWcq1RBxsoF"
      },
      "execution_count": null,
      "outputs": []
    },
    {
      "cell_type": "code",
      "source": [
        "df"
      ],
      "metadata": {
        "colab": {
          "base_uri": "https://localhost:8080/",
          "height": 519
        },
        "id": "kVw7oA1lAwLf",
        "outputId": "60a98a57-6d32-4e65-9c15-50db92cabbd0"
      },
      "execution_count": null,
      "outputs": [
        {
          "output_type": "execute_result",
          "data": {
            "text/plain": [
              "                                                 ckt  \\\n",
              "0      ТААРОҢГЫРГЫН, ЭЛЁЛЬЫЧЕТГЫРГЫН ЫНКЪАМ ҢЭЭ’ВИК.   \n",
              "1  Вера ТЭВЛЯНТО, урэмигчирэтыльын қорагынрэтгырг...   \n",
              "2  Еп рэювкы вулӄытвик ӈавэтынва етьа рытчыркынин...   \n",
              "3  Ройыръэн эвиръыт рытэнмавыркынэнат, инъэ таӈга...   \n",
              "4  Етьа рытчыркынинэт уттыт увинтэткин ынкъам гыт...   \n",
              "5  Инъэ ривыльэ рыпкирэтыркынин ӈэлвыл, лыгэнэвыт...   \n",
              "6  Эвыт тангиянъё кынъоёлӄыл ӄораӈы эвытрыкэ вак,...   \n",
              "7  Ръэнут винвынъэӄэрэвын, иа’м тыӈэво лыӈыркын, ...   \n",
              "8                        Ымылыгэн аманъята нытчыӄин.   \n",
              "9  Тиркыӄэмэтык ачгыта чама тымӈалголяӄ ныръилеӄи...   \n",
              "\n",
              "                                                  ru  \n",
              "0                    ОБРЯД, СОСТЯЗАНИЯ И СВАТОВСТВО.  \n",
              "1  Вера ТЕВЛЯНТО, ветеран оленеводства, городской...  \n",
              "2  Кочуют на новые, непротоптанные пастбища, где ...  \n",
              "3  В дни проведения обряда оленеводы по-особенном...  \n",
              "4  Они стараются лишний раз не тревожить отдыхающ...  \n",
              "5  Утром ночной дежурный пригоняет стадо, другие ...  \n",
              "6  Если этот олень не попадает в поле зрения – пр...  \n",
              "7  Если же жертвенное животное без помех поймали ...  \n",
              "8                   Тут начинается самое интересное.  \n",
              "9  В состязании охотно принимают участие и стар и...  "
            ],
            "text/html": [
              "\n",
              "  <div id=\"df-d949357e-fee5-47f2-890b-aed664ee6994\" class=\"colab-df-container\">\n",
              "    <div>\n",
              "<style scoped>\n",
              "    .dataframe tbody tr th:only-of-type {\n",
              "        vertical-align: middle;\n",
              "    }\n",
              "\n",
              "    .dataframe tbody tr th {\n",
              "        vertical-align: top;\n",
              "    }\n",
              "\n",
              "    .dataframe thead th {\n",
              "        text-align: right;\n",
              "    }\n",
              "</style>\n",
              "<table border=\"1\" class=\"dataframe\">\n",
              "  <thead>\n",
              "    <tr style=\"text-align: right;\">\n",
              "      <th></th>\n",
              "      <th>ckt</th>\n",
              "      <th>ru</th>\n",
              "    </tr>\n",
              "  </thead>\n",
              "  <tbody>\n",
              "    <tr>\n",
              "      <th>0</th>\n",
              "      <td>ТААРОҢГЫРГЫН, ЭЛЁЛЬЫЧЕТГЫРГЫН ЫНКЪАМ ҢЭЭ’ВИК.</td>\n",
              "      <td>ОБРЯД, СОСТЯЗАНИЯ И СВАТОВСТВО.</td>\n",
              "    </tr>\n",
              "    <tr>\n",
              "      <th>1</th>\n",
              "      <td>Вера ТЭВЛЯНТО, урэмигчирэтыльын қорагынрэтгырг...</td>\n",
              "      <td>Вера ТЕВЛЯНТО, ветеран оленеводства, городской...</td>\n",
              "    </tr>\n",
              "    <tr>\n",
              "      <th>2</th>\n",
              "      <td>Еп рэювкы вулӄытвик ӈавэтынва етьа рытчыркынин...</td>\n",
              "      <td>Кочуют на новые, непротоптанные пастбища, где ...</td>\n",
              "    </tr>\n",
              "    <tr>\n",
              "      <th>3</th>\n",
              "      <td>Ройыръэн эвиръыт рытэнмавыркынэнат, инъэ таӈга...</td>\n",
              "      <td>В дни проведения обряда оленеводы по-особенном...</td>\n",
              "    </tr>\n",
              "    <tr>\n",
              "      <th>4</th>\n",
              "      <td>Етьа рытчыркынинэт уттыт увинтэткин ынкъам гыт...</td>\n",
              "      <td>Они стараются лишний раз не тревожить отдыхающ...</td>\n",
              "    </tr>\n",
              "    <tr>\n",
              "      <th>5</th>\n",
              "      <td>Инъэ ривыльэ рыпкирэтыркынин ӈэлвыл, лыгэнэвыт...</td>\n",
              "      <td>Утром ночной дежурный пригоняет стадо, другие ...</td>\n",
              "    </tr>\n",
              "    <tr>\n",
              "      <th>6</th>\n",
              "      <td>Эвыт тангиянъё кынъоёлӄыл ӄораӈы эвытрыкэ вак,...</td>\n",
              "      <td>Если этот олень не попадает в поле зрения – пр...</td>\n",
              "    </tr>\n",
              "    <tr>\n",
              "      <th>7</th>\n",
              "      <td>Ръэнут винвынъэӄэрэвын, иа’м тыӈэво лыӈыркын, ...</td>\n",
              "      <td>Если же жертвенное животное без помех поймали ...</td>\n",
              "    </tr>\n",
              "    <tr>\n",
              "      <th>8</th>\n",
              "      <td>Ымылыгэн аманъята нытчыӄин.</td>\n",
              "      <td>Тут начинается самое интересное.</td>\n",
              "    </tr>\n",
              "    <tr>\n",
              "      <th>9</th>\n",
              "      <td>Тиркыӄэмэтык ачгыта чама тымӈалголяӄ ныръилеӄи...</td>\n",
              "      <td>В состязании охотно принимают участие и стар и...</td>\n",
              "    </tr>\n",
              "  </tbody>\n",
              "</table>\n",
              "</div>\n",
              "    <div class=\"colab-df-buttons\">\n",
              "\n",
              "  <div class=\"colab-df-container\">\n",
              "    <button class=\"colab-df-convert\" onclick=\"convertToInteractive('df-d949357e-fee5-47f2-890b-aed664ee6994')\"\n",
              "            title=\"Convert this dataframe to an interactive table.\"\n",
              "            style=\"display:none;\">\n",
              "\n",
              "  <svg xmlns=\"http://www.w3.org/2000/svg\" height=\"24px\" viewBox=\"0 -960 960 960\">\n",
              "    <path d=\"M120-120v-720h720v720H120Zm60-500h600v-160H180v160Zm220 220h160v-160H400v160Zm0 220h160v-160H400v160ZM180-400h160v-160H180v160Zm440 0h160v-160H620v160ZM180-180h160v-160H180v160Zm440 0h160v-160H620v160Z\"/>\n",
              "  </svg>\n",
              "    </button>\n",
              "\n",
              "  <style>\n",
              "    .colab-df-container {\n",
              "      display:flex;\n",
              "      gap: 12px;\n",
              "    }\n",
              "\n",
              "    .colab-df-convert {\n",
              "      background-color: #E8F0FE;\n",
              "      border: none;\n",
              "      border-radius: 50%;\n",
              "      cursor: pointer;\n",
              "      display: none;\n",
              "      fill: #1967D2;\n",
              "      height: 32px;\n",
              "      padding: 0 0 0 0;\n",
              "      width: 32px;\n",
              "    }\n",
              "\n",
              "    .colab-df-convert:hover {\n",
              "      background-color: #E2EBFA;\n",
              "      box-shadow: 0px 1px 2px rgba(60, 64, 67, 0.3), 0px 1px 3px 1px rgba(60, 64, 67, 0.15);\n",
              "      fill: #174EA6;\n",
              "    }\n",
              "\n",
              "    .colab-df-buttons div {\n",
              "      margin-bottom: 4px;\n",
              "    }\n",
              "\n",
              "    [theme=dark] .colab-df-convert {\n",
              "      background-color: #3B4455;\n",
              "      fill: #D2E3FC;\n",
              "    }\n",
              "\n",
              "    [theme=dark] .colab-df-convert:hover {\n",
              "      background-color: #434B5C;\n",
              "      box-shadow: 0px 1px 3px 1px rgba(0, 0, 0, 0.15);\n",
              "      filter: drop-shadow(0px 1px 2px rgba(0, 0, 0, 0.3));\n",
              "      fill: #FFFFFF;\n",
              "    }\n",
              "  </style>\n",
              "\n",
              "    <script>\n",
              "      const buttonEl =\n",
              "        document.querySelector('#df-d949357e-fee5-47f2-890b-aed664ee6994 button.colab-df-convert');\n",
              "      buttonEl.style.display =\n",
              "        google.colab.kernel.accessAllowed ? 'block' : 'none';\n",
              "\n",
              "      async function convertToInteractive(key) {\n",
              "        const element = document.querySelector('#df-d949357e-fee5-47f2-890b-aed664ee6994');\n",
              "        const dataTable =\n",
              "          await google.colab.kernel.invokeFunction('convertToInteractive',\n",
              "                                                    [key], {});\n",
              "        if (!dataTable) return;\n",
              "\n",
              "        const docLinkHtml = 'Like what you see? Visit the ' +\n",
              "          '<a target=\"_blank\" href=https://colab.research.google.com/notebooks/data_table.ipynb>data table notebook</a>'\n",
              "          + ' to learn more about interactive tables.';\n",
              "        element.innerHTML = '';\n",
              "        dataTable['output_type'] = 'display_data';\n",
              "        await google.colab.output.renderOutput(dataTable, element);\n",
              "        const docLink = document.createElement('div');\n",
              "        docLink.innerHTML = docLinkHtml;\n",
              "        element.appendChild(docLink);\n",
              "      }\n",
              "    </script>\n",
              "  </div>\n",
              "\n",
              "\n",
              "    <div id=\"df-8f6f7ced-1476-4741-8056-48a604572e7f\">\n",
              "      <button class=\"colab-df-quickchart\" onclick=\"quickchart('df-8f6f7ced-1476-4741-8056-48a604572e7f')\"\n",
              "                title=\"Suggest charts\"\n",
              "                style=\"display:none;\">\n",
              "\n",
              "<svg xmlns=\"http://www.w3.org/2000/svg\" height=\"24px\"viewBox=\"0 0 24 24\"\n",
              "     width=\"24px\">\n",
              "    <g>\n",
              "        <path d=\"M19 3H5c-1.1 0-2 .9-2 2v14c0 1.1.9 2 2 2h14c1.1 0 2-.9 2-2V5c0-1.1-.9-2-2-2zM9 17H7v-7h2v7zm4 0h-2V7h2v10zm4 0h-2v-4h2v4z\"/>\n",
              "    </g>\n",
              "</svg>\n",
              "      </button>\n",
              "\n",
              "<style>\n",
              "  .colab-df-quickchart {\n",
              "      --bg-color: #E8F0FE;\n",
              "      --fill-color: #1967D2;\n",
              "      --hover-bg-color: #E2EBFA;\n",
              "      --hover-fill-color: #174EA6;\n",
              "      --disabled-fill-color: #AAA;\n",
              "      --disabled-bg-color: #DDD;\n",
              "  }\n",
              "\n",
              "  [theme=dark] .colab-df-quickchart {\n",
              "      --bg-color: #3B4455;\n",
              "      --fill-color: #D2E3FC;\n",
              "      --hover-bg-color: #434B5C;\n",
              "      --hover-fill-color: #FFFFFF;\n",
              "      --disabled-bg-color: #3B4455;\n",
              "      --disabled-fill-color: #666;\n",
              "  }\n",
              "\n",
              "  .colab-df-quickchart {\n",
              "    background-color: var(--bg-color);\n",
              "    border: none;\n",
              "    border-radius: 50%;\n",
              "    cursor: pointer;\n",
              "    display: none;\n",
              "    fill: var(--fill-color);\n",
              "    height: 32px;\n",
              "    padding: 0;\n",
              "    width: 32px;\n",
              "  }\n",
              "\n",
              "  .colab-df-quickchart:hover {\n",
              "    background-color: var(--hover-bg-color);\n",
              "    box-shadow: 0 1px 2px rgba(60, 64, 67, 0.3), 0 1px 3px 1px rgba(60, 64, 67, 0.15);\n",
              "    fill: var(--button-hover-fill-color);\n",
              "  }\n",
              "\n",
              "  .colab-df-quickchart-complete:disabled,\n",
              "  .colab-df-quickchart-complete:disabled:hover {\n",
              "    background-color: var(--disabled-bg-color);\n",
              "    fill: var(--disabled-fill-color);\n",
              "    box-shadow: none;\n",
              "  }\n",
              "\n",
              "  .colab-df-spinner {\n",
              "    border: 2px solid var(--fill-color);\n",
              "    border-color: transparent;\n",
              "    border-bottom-color: var(--fill-color);\n",
              "    animation:\n",
              "      spin 1s steps(1) infinite;\n",
              "  }\n",
              "\n",
              "  @keyframes spin {\n",
              "    0% {\n",
              "      border-color: transparent;\n",
              "      border-bottom-color: var(--fill-color);\n",
              "      border-left-color: var(--fill-color);\n",
              "    }\n",
              "    20% {\n",
              "      border-color: transparent;\n",
              "      border-left-color: var(--fill-color);\n",
              "      border-top-color: var(--fill-color);\n",
              "    }\n",
              "    30% {\n",
              "      border-color: transparent;\n",
              "      border-left-color: var(--fill-color);\n",
              "      border-top-color: var(--fill-color);\n",
              "      border-right-color: var(--fill-color);\n",
              "    }\n",
              "    40% {\n",
              "      border-color: transparent;\n",
              "      border-right-color: var(--fill-color);\n",
              "      border-top-color: var(--fill-color);\n",
              "    }\n",
              "    60% {\n",
              "      border-color: transparent;\n",
              "      border-right-color: var(--fill-color);\n",
              "    }\n",
              "    80% {\n",
              "      border-color: transparent;\n",
              "      border-right-color: var(--fill-color);\n",
              "      border-bottom-color: var(--fill-color);\n",
              "    }\n",
              "    90% {\n",
              "      border-color: transparent;\n",
              "      border-bottom-color: var(--fill-color);\n",
              "    }\n",
              "  }\n",
              "</style>\n",
              "\n",
              "      <script>\n",
              "        async function quickchart(key) {\n",
              "          const quickchartButtonEl =\n",
              "            document.querySelector('#' + key + ' button');\n",
              "          quickchartButtonEl.disabled = true;  // To prevent multiple clicks.\n",
              "          quickchartButtonEl.classList.add('colab-df-spinner');\n",
              "          try {\n",
              "            const charts = await google.colab.kernel.invokeFunction(\n",
              "                'suggestCharts', [key], {});\n",
              "          } catch (error) {\n",
              "            console.error('Error during call to suggestCharts:', error);\n",
              "          }\n",
              "          quickchartButtonEl.classList.remove('colab-df-spinner');\n",
              "          quickchartButtonEl.classList.add('colab-df-quickchart-complete');\n",
              "        }\n",
              "        (() => {\n",
              "          let quickchartButtonEl =\n",
              "            document.querySelector('#df-8f6f7ced-1476-4741-8056-48a604572e7f button');\n",
              "          quickchartButtonEl.style.display =\n",
              "            google.colab.kernel.accessAllowed ? 'block' : 'none';\n",
              "        })();\n",
              "      </script>\n",
              "    </div>\n",
              "    </div>\n",
              "  </div>\n"
            ],
            "application/vnd.google.colaboratory.intrinsic+json": {
              "type": "dataframe",
              "variable_name": "df",
              "summary": "{\n  \"name\": \"df\",\n  \"rows\": 10,\n  \"fields\": [\n    {\n      \"column\": \"ckt\",\n      \"properties\": {\n        \"dtype\": \"string\",\n        \"num_unique_values\": 10,\n        \"samples\": [\n          \"\\u042b\\u043c\\u044b\\u043b\\u044b\\u0433\\u044d\\u043d \\u0430\\u043c\\u0430\\u043d\\u044a\\u044f\\u0442\\u0430 \\u043d\\u044b\\u0442\\u0447\\u044b\\u04c4\\u0438\\u043d.\",\n          \"\\u0412\\u0435\\u0440\\u0430 \\u0422\\u042d\\u0412\\u041b\\u042f\\u041d\\u0422\\u041e, \\u0443\\u0440\\u044d\\u043c\\u0438\\u0433\\u0447\\u0438\\u0440\\u044d\\u0442\\u044b\\u043b\\u044c\\u044b\\u043d \\u049b\\u043e\\u0440\\u0430\\u0433\\u044b\\u043d\\u0440\\u044d\\u0442\\u0433\\u044b\\u0440\\u0433\\u044b\\u043a, \\u042d\\u043a\\u0432\\u044b\\u044b\\u043d\\u043d\\u043e\\u0442.\",\n          \"\\u0418\\u043d\\u044a\\u044d \\u0440\\u0438\\u0432\\u044b\\u043b\\u044c\\u044d \\u0440\\u044b\\u043f\\u043a\\u0438\\u0440\\u044d\\u0442\\u044b\\u0440\\u043a\\u044b\\u043d\\u0438\\u043d \\u04c8\\u044d\\u043b\\u0432\\u044b\\u043b, \\u043b\\u044b\\u0433\\u044d\\u043d\\u044d\\u0432\\u044b\\u0442 \\u04c4\\u0443\\u0442\\u0442\\u0438 \\u04c4\\u043b\\u044f\\u0432\\u044b\\u043b\\u0442\\u044d \\u0433\\u044b\\u0440\\u044b\\u0442\\u043a\\u0443\\u0433\\u0438\\u043b\\u0438\\u0440\\u043a\\u044b\\u0442.\"\n        ],\n        \"semantic_type\": \"\",\n        \"description\": \"\"\n      }\n    },\n    {\n      \"column\": \"ru\",\n      \"properties\": {\n        \"dtype\": \"string\",\n        \"num_unique_values\": 10,\n        \"samples\": [\n          \"\\u0422\\u0443\\u0442 \\u043d\\u0430\\u0447\\u0438\\u043d\\u0430\\u0435\\u0442\\u0441\\u044f \\u0441\\u0430\\u043c\\u043e\\u0435 \\u0438\\u043d\\u0442\\u0435\\u0440\\u0435\\u0441\\u043d\\u043e\\u0435.\",\n          \"\\u0412\\u0435\\u0440\\u0430 \\u0422\\u0415\\u0412\\u041b\\u042f\\u041d\\u0422\\u041e, \\u0432\\u0435\\u0442\\u0435\\u0440\\u0430\\u043d \\u043e\\u043b\\u0435\\u043d\\u0435\\u0432\\u043e\\u0434\\u0441\\u0442\\u0432\\u0430, \\u0433\\u043e\\u0440\\u043e\\u0434\\u0441\\u043a\\u043e\\u0439 \\u043e\\u043a\\u0440\\u0443\\u0433 \\u042d\\u0433\\u0432\\u0435\\u043a\\u0438\\u043d\\u043e\\u0442.\",\n          \"\\u0423\\u0442\\u0440\\u043e\\u043c \\u043d\\u043e\\u0447\\u043d\\u043e\\u0439 \\u0434\\u0435\\u0436\\u0443\\u0440\\u043d\\u044b\\u0439 \\u043f\\u0440\\u0438\\u0433\\u043e\\u043d\\u044f\\u0435\\u0442 \\u0441\\u0442\\u0430\\u0434\\u043e, \\u0434\\u0440\\u0443\\u0433\\u0438\\u0435 \\u043c\\u0443\\u0436\\u0447\\u0438\\u043d\\u044b \\u043f\\u0440\\u0438\\u043d\\u0438\\u043c\\u0430\\u044e\\u0442 \\u0435\\u0433\\u043e \\u0438 \\u0432\\u044b\\u0431\\u0438\\u0440\\u0430\\u044e\\u0442 \\u0436\\u0435\\u0440\\u0442\\u0432\\u0435\\u043d\\u043d\\u043e\\u0433\\u043e \\u043e\\u043b\\u0435\\u043d\\u044f, \\u043d\\u0430\\u043c\\u0435\\u0447\\u0435\\u043d\\u043d\\u043e\\u0433\\u043e \\u0437\\u0430\\u0440\\u0430\\u043d\\u0435\\u0435.\"\n        ],\n        \"semantic_type\": \"\",\n        \"description\": \"\"\n      }\n    }\n  ]\n}"
            }
          },
          "metadata": {},
          "execution_count": 749
        }
      ]
    },
    {
      "cell_type": "code",
      "source": [
        "df.to_csv(\"extra_chukot_article_7937.csv\", index=False, encoding=\"utf-8-sig\")"
      ],
      "metadata": {
        "id": "FHRKieHp3_S0"
      },
      "execution_count": null,
      "outputs": []
    }
  ]
}